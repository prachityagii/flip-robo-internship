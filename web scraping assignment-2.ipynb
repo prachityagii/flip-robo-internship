{
 "cells": [
  {
   "cell_type": "markdown",
   "id": "10c9c21a",
   "metadata": {},
   "source": [
    "# Q1: Write a python program to scrape data for “Data Analyst” Job position in “Bangalore” location.\n",
    "You have to scrape the job-title, job-location, company_name, experience_required. You have to scrape first 10 jobs data. This task will be done in following steps:\n",
    "\n",
    "1. First get the webpage https://www.naukri.com/\n",
    "2. Enter “Data Analyst” in “Skill, Designations, Companies” field and enter “Bangalore” in “enter the location” field.\n",
    "3. Then click the search button.\n",
    "4. Then scrape the data for the first 10 jobs results you get.\n",
    "5. Finally create a dataframe of the scraped data. Note: All of the above steps have to be done in code. No step is to be done manually."
   ]
  },
  {
   "cell_type": "code",
   "execution_count": 1,
   "id": "be3ca3fc",
   "metadata": {},
   "outputs": [
    {
     "name": "stdout",
     "output_type": "stream",
     "text": [
      "Requirement already satisfied: selenium in c:\\users\\dines\\anaconda3\\lib\\site-packages (4.2.0)\n",
      "Requirement already satisfied: trio~=0.17 in c:\\users\\dines\\anaconda3\\lib\\site-packages (from selenium) (0.21.0)\n",
      "Requirement already satisfied: urllib3[secure,socks]~=1.26 in c:\\users\\dines\\anaconda3\\lib\\site-packages (from selenium) (1.26.4)\n",
      "Requirement already satisfied: trio-websocket~=0.9 in c:\\users\\dines\\anaconda3\\lib\\site-packages (from selenium) (0.9.2)\n",
      "Requirement already satisfied: async-generator>=1.9 in c:\\users\\dines\\anaconda3\\lib\\site-packages (from trio~=0.17->selenium) (1.10)\n",
      "Requirement already satisfied: sortedcontainers in c:\\users\\dines\\anaconda3\\lib\\site-packages (from trio~=0.17->selenium) (2.3.0)\n",
      "Requirement already satisfied: cffi>=1.14 in c:\\users\\dines\\anaconda3\\lib\\site-packages (from trio~=0.17->selenium) (1.14.5)\n",
      "Requirement already satisfied: outcome in c:\\users\\dines\\anaconda3\\lib\\site-packages (from trio~=0.17->selenium) (1.2.0)\n",
      "Requirement already satisfied: idna in c:\\users\\dines\\anaconda3\\lib\\site-packages (from trio~=0.17->selenium) (2.10)\n",
      "Requirement already satisfied: attrs>=19.2.0 in c:\\users\\dines\\anaconda3\\lib\\site-packages (from trio~=0.17->selenium) (20.3.0)\n",
      "Requirement already satisfied: sniffio in c:\\users\\dines\\anaconda3\\lib\\site-packages (from trio~=0.17->selenium) (1.2.0)\n",
      "Requirement already satisfied: pycparser in c:\\users\\dines\\anaconda3\\lib\\site-packages (from cffi>=1.14->trio~=0.17->selenium) (2.20)\n",
      "Requirement already satisfied: wsproto>=0.14 in c:\\users\\dines\\anaconda3\\lib\\site-packages (from trio-websocket~=0.9->selenium) (1.1.0)\n",
      "Requirement already satisfied: certifi in c:\\users\\dines\\anaconda3\\lib\\site-packages (from urllib3[secure,socks]~=1.26->selenium) (2020.12.5)\n",
      "Requirement already satisfied: pyOpenSSL>=0.14 in c:\\users\\dines\\anaconda3\\lib\\site-packages (from urllib3[secure,socks]~=1.26->selenium) (20.0.1)\n",
      "Requirement already satisfied: cryptography>=1.3.4 in c:\\users\\dines\\anaconda3\\lib\\site-packages (from urllib3[secure,socks]~=1.26->selenium) (3.4.7)\n",
      "Requirement already satisfied: PySocks!=1.5.7,<2.0,>=1.5.6 in c:\\users\\dines\\anaconda3\\lib\\site-packages (from urllib3[secure,socks]~=1.26->selenium) (1.7.1)\n",
      "Requirement already satisfied: six>=1.5.2 in c:\\users\\dines\\anaconda3\\lib\\site-packages (from pyOpenSSL>=0.14->urllib3[secure,socks]~=1.26->selenium) (1.15.0)\n",
      "Requirement already satisfied: h11<1,>=0.9.0 in c:\\users\\dines\\anaconda3\\lib\\site-packages (from wsproto>=0.14->trio-websocket~=0.9->selenium) (0.13.0)\n"
     ]
    }
   ],
   "source": [
    "# let's first install the selenium library\n",
    "! pip install selenium"
   ]
  },
  {
   "cell_type": "code",
   "execution_count": 2,
   "id": "f14c8bb6",
   "metadata": {},
   "outputs": [],
   "source": [
    "import selenium\n",
    "import pandas as pd\n",
    "from selenium import webdriver\n",
    "import warnings\n",
    "warnings.filterwarnings(\"ignore\")\n",
    "import time"
   ]
  },
  {
   "cell_type": "code",
   "execution_count": 3,
   "id": "55ff33b5",
   "metadata": {},
   "outputs": [],
   "source": [
    "driver = webdriver.Chrome('chromedriver.exe')\n"
   ]
  },
  {
   "cell_type": "code",
   "execution_count": 4,
   "id": "258a124c",
   "metadata": {},
   "outputs": [],
   "source": [
    "driver.get('https://www.naukri.com')\n"
   ]
  },
  {
   "cell_type": "code",
   "execution_count": 5,
   "id": "c560e7c8",
   "metadata": {},
   "outputs": [],
   "source": [
    "search_field_designation = driver.find_element_by_class_name(\"suggestor-input \")\n",
    "search_field_designation.send_keys(\"Data Analyst\")"
   ]
  },
  {
   "cell_type": "code",
   "execution_count": 6,
   "id": "9175a98b",
   "metadata": {},
   "outputs": [],
   "source": [
    "search_field_location = driver.find_element_by_xpath(\"/html/body/div/div[2]/div[3]/div/div/div[5]/div/div/div/input\")\n",
    "search_field_location.send_keys(\"Bangalore\")"
   ]
  },
  {
   "cell_type": "code",
   "execution_count": 8,
   "id": "ef5018ca",
   "metadata": {},
   "outputs": [],
   "source": [
    "search_button = driver.find_element_by_xpath(\"/html/body/div/div[2]/div[3]/div/div/div[6]\")\n",
    "search_button.click()"
   ]
  },
  {
   "cell_type": "markdown",
   "id": "ee4174b0",
   "metadata": {},
   "source": []
  },
  {
   "cell_type": "markdown",
   "id": "752e20d2",
   "metadata": {},
   "source": [
    "So now let's first create 4 empty lists. In these lists data will be stored while scraping. We have created 4 empty lists for 4 features which we haveto extract \n",
    "\n",
    "1. job_titles 2. job_locations 3. company_names  4. experience_list"
   ]
  },
  {
   "cell_type": "code",
   "execution_count": 9,
   "id": "12cb812f",
   "metadata": {},
   "outputs": [],
   "source": [
    "job_titles = []\n",
    "job_locations = []\n",
    "company_names = []\n",
    "experience_list = []"
   ]
  },
  {
   "cell_type": "code",
   "execution_count": null,
   "id": "047bde4b",
   "metadata": {},
   "outputs": [],
   "source": []
  },
  {
   "cell_type": "code",
   "execution_count": null,
   "id": "a588fe19",
   "metadata": {
    "collapsed": true
   },
   "outputs": [],
   "source": []
  },
  {
   "cell_type": "markdown",
   "id": "6c55f27b",
   "metadata": {},
   "source": [
    "First we will extract all the tags where we have the job titles. "
   ]
  },
  {
   "cell_type": "code",
   "execution_count": 12,
   "id": "f6538c8a",
   "metadata": {},
   "outputs": [
    {
     "data": {
      "text/plain": [
       "[<selenium.webdriver.remote.webelement.WebElement (session=\"fe3e3fccfaa84968f5bb0338e0c57e18\", element=\"9ddab952-11f0-4d7c-9263-924df9e0a3a9\")>,\n",
       " <selenium.webdriver.remote.webelement.WebElement (session=\"fe3e3fccfaa84968f5bb0338e0c57e18\", element=\"2fb84f91-3cf1-4930-adfc-9bc58175d664\")>,\n",
       " <selenium.webdriver.remote.webelement.WebElement (session=\"fe3e3fccfaa84968f5bb0338e0c57e18\", element=\"3237570b-df18-4bce-bd71-cddcf413f5c2\")>,\n",
       " <selenium.webdriver.remote.webelement.WebElement (session=\"fe3e3fccfaa84968f5bb0338e0c57e18\", element=\"256bd79e-4055-46d0-b2a0-a4016304aba2\")>]"
      ]
     },
     "execution_count": 12,
     "metadata": {},
     "output_type": "execute_result"
    }
   ],
   "source": [
    "#so let's extract all the tags having the job-titles\n",
    "titles_tag = driver.find_elements_by_xpath(\"//a[@class='title fw500 ellipsis']\") #locating web element of title\n",
    "titles_tag[0:4] #using range to print only top 4 results"
   ]
  },
  {
   "cell_type": "markdown",
   "id": "a2bf6ae6",
   "metadata": {},
   "source": []
  },
  {
   "cell_type": "code",
   "execution_count": 13,
   "id": "a287b394",
   "metadata": {},
   "outputs": [
    {
     "data": {
      "text/plain": [
       "['Business Data Analyst',\n",
       " 'EY GDS Data Analyst-Finland based project',\n",
       " 'Data Analyst - Data and Analytics',\n",
       " 'Data Analyst - Data and Analytics']"
      ]
     },
     "execution_count": 13,
     "metadata": {},
     "output_type": "execute_result"
    }
   ],
   "source": [
    "for i in titles_tag:\n",
    "    title = i.text #iterating over web element of title\n",
    "    job_titles.append(title)\n",
    "job_titles[0:4]"
   ]
  },
  {
   "cell_type": "markdown",
   "id": "77fb9ea8",
   "metadata": {},
   "source": [
    "Now we will extract the html tags where we have the company names"
   ]
  },
  {
   "cell_type": "code",
   "execution_count": 14,
   "id": "c084ca72",
   "metadata": {},
   "outputs": [
    {
     "data": {
      "text/plain": [
       "[<selenium.webdriver.remote.webelement.WebElement (session=\"fe3e3fccfaa84968f5bb0338e0c57e18\", element=\"04681ccf-9dc3-4539-a642-341eeb8a7c10\")>,\n",
       " <selenium.webdriver.remote.webelement.WebElement (session=\"fe3e3fccfaa84968f5bb0338e0c57e18\", element=\"ad2b1e29-164b-4a71-9589-ffaf4efe9441\")>,\n",
       " <selenium.webdriver.remote.webelement.WebElement (session=\"fe3e3fccfaa84968f5bb0338e0c57e18\", element=\"3a8302e9-9e05-4dca-98da-1a620dec1eae\")>,\n",
       " <selenium.webdriver.remote.webelement.WebElement (session=\"fe3e3fccfaa84968f5bb0338e0c57e18\", element=\"ebc1c7a0-e684-4a67-b76a-b107fb01e035\")>]"
      ]
     },
     "execution_count": 14,
     "metadata": {},
     "output_type": "execute_result"
    }
   ],
   "source": [
    "#so let's extract all the tags having company names \n",
    "companies_tag = driver.find_elements_by_xpath(\"//a[@class='subTitle ellipsis fleft']\") #locating web element of title\n",
    "companies_tag[0:4] #using range to print only top 4 results"
   ]
  },
  {
   "cell_type": "code",
   "execution_count": 15,
   "id": "87f72feb",
   "metadata": {},
   "outputs": [
    {
     "data": {
      "text/plain": [
       "['NXP Semiconductors', 'EY', 'Intel', 'Intel']"
      ]
     },
     "execution_count": 15,
     "metadata": {},
     "output_type": "execute_result"
    }
   ],
   "source": [
    "for i in companies_tag:\n",
    "    company_name = i.text #iterating over web element of title\n",
    "    company_names.append(company_name)\n",
    "company_names[0:4]"
   ]
  },
  {
   "cell_type": "markdown",
   "id": "1fe600e6",
   "metadata": {},
   "source": [
    "Now we will extract the html tags where we have the experience required data"
   ]
  },
  {
   "cell_type": "code",
   "execution_count": 16,
   "id": "dd230e86",
   "metadata": {},
   "outputs": [
    {
     "data": {
      "text/plain": [
       "[<selenium.webdriver.remote.webelement.WebElement (session=\"fe3e3fccfaa84968f5bb0338e0c57e18\", element=\"dee3fac0-a474-4d4e-8932-a78072273198\")>,\n",
       " <selenium.webdriver.remote.webelement.WebElement (session=\"fe3e3fccfaa84968f5bb0338e0c57e18\", element=\"95638141-66d1-4e93-9fc5-d5e0bbc0025a\")>,\n",
       " <selenium.webdriver.remote.webelement.WebElement (session=\"fe3e3fccfaa84968f5bb0338e0c57e18\", element=\"a7a78f6c-fce3-485a-a570-81894e895fed\")>,\n",
       " <selenium.webdriver.remote.webelement.WebElement (session=\"fe3e3fccfaa84968f5bb0338e0c57e18\", element=\"9db257ff-5326-4c02-8cec-24e1ffc4301b\")>]"
      ]
     },
     "execution_count": 16,
     "metadata": {},
     "output_type": "execute_result"
    }
   ],
   "source": [
    "#so let's extract all the tags having company names \n",
    "experience_tag = driver.find_elements_by_xpath(\"//li[@class='fleft grey-text br2 placeHolderLi experience']/span\") #locating web element of title\n",
    "experience_tag[0:4] #using range to print only top 4 results"
   ]
  },
  {
   "cell_type": "code",
   "execution_count": 17,
   "id": "e1b39ca1",
   "metadata": {},
   "outputs": [
    {
     "data": {
      "text/plain": [
       "['2-5 Yrs', '0-1 Yrs', '3-6 Yrs', '3-6 Yrs']"
      ]
     },
     "execution_count": 17,
     "metadata": {},
     "output_type": "execute_result"
    }
   ],
   "source": [
    "for i in experience_tag:\n",
    "    experience = i.text #iterating over web element of title\n",
    "    experience_list.append(experience)\n",
    "experience_list[0:4]"
   ]
  },
  {
   "cell_type": "markdown",
   "id": "5099a6aa",
   "metadata": {},
   "source": [
    "Now we will extract the html tags where we have the location of the job data"
   ]
  },
  {
   "cell_type": "code",
   "execution_count": 18,
   "id": "89834852",
   "metadata": {},
   "outputs": [
    {
     "data": {
      "text/plain": [
       "[<selenium.webdriver.remote.webelement.WebElement (session=\"fe3e3fccfaa84968f5bb0338e0c57e18\", element=\"9ecaf60b-69b3-4049-8170-ac43d65d63d7\")>,\n",
       " <selenium.webdriver.remote.webelement.WebElement (session=\"fe3e3fccfaa84968f5bb0338e0c57e18\", element=\"ef684230-f763-4300-8f05-f804943b5814\")>,\n",
       " <selenium.webdriver.remote.webelement.WebElement (session=\"fe3e3fccfaa84968f5bb0338e0c57e18\", element=\"0ca6ae88-02c1-470e-bdb7-b8dbc5376f1c\")>,\n",
       " <selenium.webdriver.remote.webelement.WebElement (session=\"fe3e3fccfaa84968f5bb0338e0c57e18\", element=\"74408d13-91b9-42c8-8d60-74efb8bfa07a\")>]"
      ]
     },
     "execution_count": 18,
     "metadata": {},
     "output_type": "execute_result"
    }
   ],
   "source": [
    "#so let's extract all the tags having company names \n",
    "location_tag = driver.find_elements_by_xpath(\"//li[@class='fleft grey-text br2 placeHolderLi location']/span[1]\") #locating web element of title\n",
    "#indexing in html (xpath) starts from 1. not 0\n",
    "location_tag[0:4] #using range to print only top 4 results"
   ]
  },
  {
   "cell_type": "code",
   "execution_count": 19,
   "id": "3a47f5c1",
   "metadata": {},
   "outputs": [
    {
     "data": {
      "text/plain": [
       "['Bangalore/Bengaluru',\n",
       " 'Bangalore/Bengaluru',\n",
       " 'Bangalore/Bengaluru',\n",
       " 'Bangalore/Bengaluru']"
      ]
     },
     "execution_count": 19,
     "metadata": {},
     "output_type": "execute_result"
    }
   ],
   "source": [
    "for i in location_tag:\n",
    "    location = i.text #iterating over web element of title\n",
    "    job_locations.append(location)\n",
    "job_locations[0:4]"
   ]
  },
  {
   "cell_type": "code",
   "execution_count": 21,
   "id": "9f063ed7",
   "metadata": {},
   "outputs": [
    {
     "name": "stdout",
     "output_type": "stream",
     "text": [
      "20 20 20 20\n"
     ]
    }
   ],
   "source": [
    "#printing length of each list or number of elements present inside each list\n",
    "\n",
    "print(len(job_titles), len(company_names), len(experience_list), len(job_locations))"
   ]
  },
  {
   "cell_type": "code",
   "execution_count": 22,
   "id": "48bf6597",
   "metadata": {},
   "outputs": [
    {
     "data": {
      "text/html": [
       "<div>\n",
       "<style scoped>\n",
       "    .dataframe tbody tr th:only-of-type {\n",
       "        vertical-align: middle;\n",
       "    }\n",
       "\n",
       "    .dataframe tbody tr th {\n",
       "        vertical-align: top;\n",
       "    }\n",
       "\n",
       "    .dataframe thead th {\n",
       "        text-align: right;\n",
       "    }\n",
       "</style>\n",
       "<table border=\"1\" class=\"dataframe\">\n",
       "  <thead>\n",
       "    <tr style=\"text-align: right;\">\n",
       "      <th></th>\n",
       "      <th>Job Title</th>\n",
       "      <th>Company</th>\n",
       "      <th>Experience Reqd</th>\n",
       "      <th>Job Location</th>\n",
       "    </tr>\n",
       "  </thead>\n",
       "  <tbody>\n",
       "    <tr>\n",
       "      <th>0</th>\n",
       "      <td>Business Data Analyst</td>\n",
       "      <td>NXP Semiconductors</td>\n",
       "      <td>2-5 Yrs</td>\n",
       "      <td>Bangalore/Bengaluru</td>\n",
       "    </tr>\n",
       "    <tr>\n",
       "      <th>1</th>\n",
       "      <td>EY GDS Data Analyst-Finland based project</td>\n",
       "      <td>EY</td>\n",
       "      <td>0-1 Yrs</td>\n",
       "      <td>Bangalore/Bengaluru</td>\n",
       "    </tr>\n",
       "    <tr>\n",
       "      <th>2</th>\n",
       "      <td>Data Analyst - Data and Analytics</td>\n",
       "      <td>Intel</td>\n",
       "      <td>3-6 Yrs</td>\n",
       "      <td>Bangalore/Bengaluru</td>\n",
       "    </tr>\n",
       "    <tr>\n",
       "      <th>3</th>\n",
       "      <td>Data Analyst - Data and Analytics</td>\n",
       "      <td>Intel</td>\n",
       "      <td>3-6 Yrs</td>\n",
       "      <td>Bangalore/Bengaluru</td>\n",
       "    </tr>\n",
       "    <tr>\n",
       "      <th>4</th>\n",
       "      <td>Data Analyst (CSD)</td>\n",
       "      <td>Siemens</td>\n",
       "      <td>2-6 Yrs</td>\n",
       "      <td>Bangalore/Bengaluru</td>\n",
       "    </tr>\n",
       "    <tr>\n",
       "      <th>5</th>\n",
       "      <td>Data Analyst - Data Science, 3 To 5 Years</td>\n",
       "      <td>Rise Finconnect Private Limited</td>\n",
       "      <td>2-6 Yrs</td>\n",
       "      <td>Bangalore/Bengaluru</td>\n",
       "    </tr>\n",
       "    <tr>\n",
       "      <th>6</th>\n",
       "      <td>Data Analyst / Business Analyst</td>\n",
       "      <td>METRO Cash &amp; Carry</td>\n",
       "      <td>3-8 Yrs</td>\n",
       "      <td>Bangalore/Bengaluru</td>\n",
       "    </tr>\n",
       "    <tr>\n",
       "      <th>7</th>\n",
       "      <td>Data Analyst</td>\n",
       "      <td>Cigna TTK</td>\n",
       "      <td>2-4 Yrs</td>\n",
       "      <td>Bangalore/Bengaluru</td>\n",
       "    </tr>\n",
       "    <tr>\n",
       "      <th>8</th>\n",
       "      <td>SAS/SQL - Healthcare Data Analyst - Bangalore</td>\n",
       "      <td>Genpact</td>\n",
       "      <td>7-10 Yrs</td>\n",
       "      <td>Bangalore/Bengaluru</td>\n",
       "    </tr>\n",
       "    <tr>\n",
       "      <th>9</th>\n",
       "      <td>Business &amp; Data Analyst - Alteryx (London)</td>\n",
       "      <td>Imaginative Brains LLP</td>\n",
       "      <td>5-10 Yrs</td>\n",
       "      <td>Bangalore/Bengaluru, Delhi / NCR, Mumbai (All ...</td>\n",
       "    </tr>\n",
       "  </tbody>\n",
       "</table>\n",
       "</div>"
      ],
      "text/plain": [
       "                                       Job Title  \\\n",
       "0                          Business Data Analyst   \n",
       "1      EY GDS Data Analyst-Finland based project   \n",
       "2              Data Analyst - Data and Analytics   \n",
       "3              Data Analyst - Data and Analytics   \n",
       "4                             Data Analyst (CSD)   \n",
       "5      Data Analyst - Data Science, 3 To 5 Years   \n",
       "6                Data Analyst / Business Analyst   \n",
       "7                                   Data Analyst   \n",
       "8  SAS/SQL - Healthcare Data Analyst - Bangalore   \n",
       "9     Business & Data Analyst - Alteryx (London)   \n",
       "\n",
       "                           Company Experience Reqd   \\\n",
       "0               NXP Semiconductors          2-5 Yrs   \n",
       "1                               EY          0-1 Yrs   \n",
       "2                            Intel          3-6 Yrs   \n",
       "3                            Intel          3-6 Yrs   \n",
       "4                          Siemens          2-6 Yrs   \n",
       "5  Rise Finconnect Private Limited          2-6 Yrs   \n",
       "6               METRO Cash & Carry          3-8 Yrs   \n",
       "7                        Cigna TTK          2-4 Yrs   \n",
       "8                          Genpact         7-10 Yrs   \n",
       "9           Imaginative Brains LLP         5-10 Yrs   \n",
       "\n",
       "                                        Job Location  \n",
       "0                                Bangalore/Bengaluru  \n",
       "1                                Bangalore/Bengaluru  \n",
       "2                                Bangalore/Bengaluru  \n",
       "3                                Bangalore/Bengaluru  \n",
       "4                                Bangalore/Bengaluru  \n",
       "5                                Bangalore/Bengaluru  \n",
       "6                                Bangalore/Bengaluru  \n",
       "7                                Bangalore/Bengaluru  \n",
       "8                                Bangalore/Bengaluru  \n",
       "9  Bangalore/Bengaluru, Delhi / NCR, Mumbai (All ...  "
      ]
     },
     "execution_count": 22,
     "metadata": {},
     "output_type": "execute_result"
    }
   ],
   "source": [
    "#import pandas as pd\n",
    "\n",
    "jobs = pd.DataFrame({})\n",
    "jobs['Job Title'] = job_titles[:10:]\n",
    "jobs['Company'] = company_names[:10:]\n",
    "jobs['Experience Reqd '] = experience_list[:10:]\n",
    "jobs['Job Location'] = job_locations[:10:]\n",
    "\n",
    "jobs"
   ]
  },
  {
   "cell_type": "code",
   "execution_count": null,
   "id": "9cb3877a",
   "metadata": {},
   "outputs": [],
   "source": []
  },
  {
   "cell_type": "markdown",
   "id": "3676fb39",
   "metadata": {},
   "source": [
    "# Q2: Write a python program to scrape data for “Data Scientist” Job position in “Bangalore” location. You\n",
    "have to scrape the job-title, job-location, company_name. You have to scrape first 10 jobs data.\n",
    "This task will be done in following steps:\n",
    "1. First get the webpage https://www.naukri.com/\n",
    "2. Enter “Data Scientist” in “Skill, Designations, Companies” field and enter “Bangalore” in “enter the\n",
    "location” field.\n",
    "3. Then click the search button.\n",
    "4. Then scrape the data for the first 10 jobs results you get.\n",
    "5. Finally create a dataframe of the scraped data."
   ]
  },
  {
   "cell_type": "code",
   "execution_count": 23,
   "id": "93d31033",
   "metadata": {},
   "outputs": [
    {
     "name": "stdout",
     "output_type": "stream",
     "text": [
      "Requirement already satisfied: selenium in c:\\users\\dines\\anaconda3\\lib\\site-packages (4.2.0)\n",
      "Requirement already satisfied: trio~=0.17 in c:\\users\\dines\\anaconda3\\lib\\site-packages (from selenium) (0.21.0)\n",
      "Requirement already satisfied: urllib3[secure,socks]~=1.26 in c:\\users\\dines\\anaconda3\\lib\\site-packages (from selenium) (1.26.4)\n",
      "Requirement already satisfied: trio-websocket~=0.9 in c:\\users\\dines\\anaconda3\\lib\\site-packages (from selenium) (0.9.2)\n",
      "Requirement already satisfied: sniffio in c:\\users\\dines\\anaconda3\\lib\\site-packages (from trio~=0.17->selenium) (1.2.0)\n",
      "Requirement already satisfied: outcome in c:\\users\\dines\\anaconda3\\lib\\site-packages (from trio~=0.17->selenium) (1.2.0)\n",
      "Requirement already satisfied: idna in c:\\users\\dines\\anaconda3\\lib\\site-packages (from trio~=0.17->selenium) (2.10)\n",
      "Requirement already satisfied: attrs>=19.2.0 in c:\\users\\dines\\anaconda3\\lib\\site-packages (from trio~=0.17->selenium) (20.3.0)\n",
      "Requirement already satisfied: cffi>=1.14 in c:\\users\\dines\\anaconda3\\lib\\site-packages (from trio~=0.17->selenium) (1.14.5)\n",
      "Requirement already satisfied: sortedcontainers in c:\\users\\dines\\anaconda3\\lib\\site-packages (from trio~=0.17->selenium) (2.3.0)\n",
      "Requirement already satisfied: async-generator>=1.9 in c:\\users\\dines\\anaconda3\\lib\\site-packages (from trio~=0.17->selenium) (1.10)\n",
      "Requirement already satisfied: pycparser in c:\\users\\dines\\anaconda3\\lib\\site-packages (from cffi>=1.14->trio~=0.17->selenium) (2.20)\n",
      "Requirement already satisfied: wsproto>=0.14 in c:\\users\\dines\\anaconda3\\lib\\site-packages (from trio-websocket~=0.9->selenium) (1.1.0)\n",
      "Requirement already satisfied: certifi in c:\\users\\dines\\anaconda3\\lib\\site-packages (from urllib3[secure,socks]~=1.26->selenium) (2020.12.5)\n",
      "Requirement already satisfied: cryptography>=1.3.4 in c:\\users\\dines\\anaconda3\\lib\\site-packages (from urllib3[secure,socks]~=1.26->selenium) (3.4.7)\n",
      "Requirement already satisfied: pyOpenSSL>=0.14 in c:\\users\\dines\\anaconda3\\lib\\site-packages (from urllib3[secure,socks]~=1.26->selenium) (20.0.1)\n",
      "Requirement already satisfied: PySocks!=1.5.7,<2.0,>=1.5.6 in c:\\users\\dines\\anaconda3\\lib\\site-packages (from urllib3[secure,socks]~=1.26->selenium) (1.7.1)\n",
      "Requirement already satisfied: six>=1.5.2 in c:\\users\\dines\\anaconda3\\lib\\site-packages (from pyOpenSSL>=0.14->urllib3[secure,socks]~=1.26->selenium) (1.15.0)\n",
      "Requirement already satisfied: h11<1,>=0.9.0 in c:\\users\\dines\\anaconda3\\lib\\site-packages (from wsproto>=0.14->trio-websocket~=0.9->selenium) (0.13.0)\n"
     ]
    }
   ],
   "source": [
    "# let's first install the selenium library\n",
    "! pip install selenium"
   ]
  },
  {
   "cell_type": "code",
   "execution_count": 24,
   "id": "1f3667f0",
   "metadata": {},
   "outputs": [],
   "source": [
    "import selenium\n",
    "import pandas as pd\n",
    "from selenium import webdriver\n",
    "import warnings\n",
    "warnings.filterwarnings(\"ignore\")\n",
    "import time"
   ]
  },
  {
   "cell_type": "code",
   "execution_count": 25,
   "id": "4c4b9f16",
   "metadata": {},
   "outputs": [],
   "source": [
    "driver = webdriver.Chrome('chromedriver.exe')"
   ]
  },
  {
   "cell_type": "code",
   "execution_count": 26,
   "id": "3bba7e3f",
   "metadata": {},
   "outputs": [],
   "source": [
    "driver.get('https://www.naukri.com')"
   ]
  },
  {
   "cell_type": "code",
   "execution_count": 27,
   "id": "04328905",
   "metadata": {},
   "outputs": [],
   "source": [
    "search_field_designation = driver.find_element_by_class_name(\"suggestor-input \")\n",
    "search_field_designation.send_keys(\"Data Scientist\")"
   ]
  },
  {
   "cell_type": "code",
   "execution_count": 28,
   "id": "cad8eb8a",
   "metadata": {},
   "outputs": [],
   "source": [
    "search_field_location = driver.find_element_by_xpath(\"/html/body/div/div[2]/div[3]/div/div/div[5]/div/div/div/input\")\n",
    "search_field_location.send_keys(\"Bangalore\")"
   ]
  },
  {
   "cell_type": "code",
   "execution_count": 29,
   "id": "7e298aed",
   "metadata": {},
   "outputs": [],
   "source": [
    "search_button = driver.find_element_by_xpath(\"/html/body/div/div[2]/div[3]/div/div/div[6]\")\n",
    "search_button.click()"
   ]
  },
  {
   "cell_type": "markdown",
   "id": "d967c140",
   "metadata": {},
   "source": [
    "So now let's first create 3 empty lists. In these lists data will be stored while scraping. We have created 3 empty lists for 3 features which we haveto extract \n",
    "\n",
    "1. job_titles 2. company_names 3. locations_list"
   ]
  },
  {
   "cell_type": "code",
   "execution_count": 30,
   "id": "67a4f2a8",
   "metadata": {},
   "outputs": [],
   "source": [
    "job_titles = []\n",
    "company_names = []\n",
    "locations_list = []"
   ]
  },
  {
   "cell_type": "code",
   "execution_count": 31,
   "id": "8498b291",
   "metadata": {},
   "outputs": [
    {
     "data": {
      "text/plain": [
       "[<selenium.webdriver.remote.webelement.WebElement (session=\"bf142a8d817a9d78f086e6682dbcbce8\", element=\"1b94d501-00b0-47ae-b74f-7b89dff21af2\")>,\n",
       " <selenium.webdriver.remote.webelement.WebElement (session=\"bf142a8d817a9d78f086e6682dbcbce8\", element=\"d1aacfa0-9a89-492c-9e02-c40ea77e7440\")>,\n",
       " <selenium.webdriver.remote.webelement.WebElement (session=\"bf142a8d817a9d78f086e6682dbcbce8\", element=\"fc09ef2b-23e2-414f-9192-abaabf363c91\")>,\n",
       " <selenium.webdriver.remote.webelement.WebElement (session=\"bf142a8d817a9d78f086e6682dbcbce8\", element=\"bd63fa87-736c-4f05-80d5-eee60a11efc0\")>]"
      ]
     },
     "execution_count": 31,
     "metadata": {},
     "output_type": "execute_result"
    }
   ],
   "source": [
    "#so let's extract all the tags having the job-titles\n",
    "titles_tag = driver.find_elements_by_xpath(\"//a[@class='title fw500 ellipsis']\") #locating web element of title\n",
    "titles_tag[0:4] #using range to print only top 4 results"
   ]
  },
  {
   "cell_type": "code",
   "execution_count": 32,
   "id": "281a2e86",
   "metadata": {},
   "outputs": [
    {
     "data": {
      "text/plain": [
       "['Senior Data Scientist',\n",
       " 'Data Science - Engineering Manager',\n",
       " 'AI Technologist Vacancy',\n",
       " 'Job Opening with Wipro For Data Scientist position']"
      ]
     },
     "execution_count": 32,
     "metadata": {},
     "output_type": "execute_result"
    }
   ],
   "source": [
    "for i in titles_tag:\n",
    "    title = i.text #iterating over web element of title\n",
    "    job_titles.append(title)\n",
    "job_titles[0:4]"
   ]
  },
  {
   "cell_type": "code",
   "execution_count": 33,
   "id": "81e13705",
   "metadata": {},
   "outputs": [
    {
     "data": {
      "text/plain": [
       "[<selenium.webdriver.remote.webelement.WebElement (session=\"bf142a8d817a9d78f086e6682dbcbce8\", element=\"7cb37ab3-88d8-4ab7-b5dd-e1720ef786e4\")>,\n",
       " <selenium.webdriver.remote.webelement.WebElement (session=\"bf142a8d817a9d78f086e6682dbcbce8\", element=\"1efe07cb-a78c-4ef7-9f4c-8666fdcd1cdb\")>,\n",
       " <selenium.webdriver.remote.webelement.WebElement (session=\"bf142a8d817a9d78f086e6682dbcbce8\", element=\"21ec9522-6205-41a5-833b-8eecbf4da020\")>,\n",
       " <selenium.webdriver.remote.webelement.WebElement (session=\"bf142a8d817a9d78f086e6682dbcbce8\", element=\"029a8ebf-7983-44d4-866f-9c24b6310a8b\")>]"
      ]
     },
     "execution_count": 33,
     "metadata": {},
     "output_type": "execute_result"
    }
   ],
   "source": [
    "#so let's extract all the tags having company names \n",
    "companies_tag = driver.find_elements_by_xpath(\"//a[@class='subTitle ellipsis fleft']\") #locating web element of title\n",
    "companies_tag[0:4] #using range to print only top 4 results"
   ]
  },
  {
   "cell_type": "code",
   "execution_count": 34,
   "id": "9c064a60",
   "metadata": {},
   "outputs": [
    {
     "data": {
      "text/plain": [
       "['Baker Hughes', 'Paytm', 'Wipro', 'Wipro']"
      ]
     },
     "execution_count": 34,
     "metadata": {},
     "output_type": "execute_result"
    }
   ],
   "source": [
    "for i in companies_tag:\n",
    "    company_name = i.text #iterating over web element of title\n",
    "    company_names.append(company_name)\n",
    "company_names[0:4]"
   ]
  },
  {
   "cell_type": "code",
   "execution_count": 35,
   "id": "b7c2afa4",
   "metadata": {},
   "outputs": [
    {
     "data": {
      "text/plain": [
       "[<selenium.webdriver.remote.webelement.WebElement (session=\"bf142a8d817a9d78f086e6682dbcbce8\", element=\"3b1eb60c-ee70-4f2b-bdc1-65871994ea4b\")>,\n",
       " <selenium.webdriver.remote.webelement.WebElement (session=\"bf142a8d817a9d78f086e6682dbcbce8\", element=\"e5ca2163-affa-4e8a-a3b3-2f698a030ba6\")>,\n",
       " <selenium.webdriver.remote.webelement.WebElement (session=\"bf142a8d817a9d78f086e6682dbcbce8\", element=\"b9fc4ae9-44e9-45b9-bc5f-9ed0a139a3db\")>,\n",
       " <selenium.webdriver.remote.webelement.WebElement (session=\"bf142a8d817a9d78f086e6682dbcbce8\", element=\"ff3f954e-1e22-4b60-b20d-5d087f6271a3\")>]"
      ]
     },
     "execution_count": 35,
     "metadata": {},
     "output_type": "execute_result"
    }
   ],
   "source": [
    "#so let's extract all the tags having company names \n",
    "location_tag = driver.find_elements_by_xpath(\"//li[@class='fleft grey-text br2 placeHolderLi location']/span[1]\") #locating web element of title\n",
    "location_tag[0:4] #using range to print only top 4 results"
   ]
  },
  {
   "cell_type": "code",
   "execution_count": 36,
   "id": "7bc122b6",
   "metadata": {},
   "outputs": [
    {
     "data": {
      "text/plain": [
       "['Mumbai, Bangalore/Bengaluru',\n",
       " 'Noida, Mumbai, Bangalore/Bengaluru',\n",
       " 'Kolkata, Hyderabad/Secunderabad, Pune, Ahmedabad, Chennai, Bangalore/Bengaluru, Delhi / NCR, Mumbai (All Areas)',\n",
       " 'Kolkata, Hyderabad/Secunderabad, Chennai, Bangalore/Bengaluru, Delhi / NCR, Mumbai (All Areas)']"
      ]
     },
     "execution_count": 36,
     "metadata": {},
     "output_type": "execute_result"
    }
   ],
   "source": [
    "for i in location_tag:\n",
    "    location = i.text #iterating over web element of title\n",
    "    locations_list.append(location)\n",
    "locations_list[0:4]"
   ]
  },
  {
   "cell_type": "code",
   "execution_count": 37,
   "id": "67209ec0",
   "metadata": {},
   "outputs": [
    {
     "name": "stdout",
     "output_type": "stream",
     "text": [
      "20 20 20\n"
     ]
    }
   ],
   "source": [
    "#printing length of each list or number of elements present inside each list\n",
    "\n",
    "print(len(job_titles), len(company_names), len(locations_list))"
   ]
  },
  {
   "cell_type": "code",
   "execution_count": 38,
   "id": "d4bcaa23",
   "metadata": {},
   "outputs": [
    {
     "data": {
      "text/html": [
       "<div>\n",
       "<style scoped>\n",
       "    .dataframe tbody tr th:only-of-type {\n",
       "        vertical-align: middle;\n",
       "    }\n",
       "\n",
       "    .dataframe tbody tr th {\n",
       "        vertical-align: top;\n",
       "    }\n",
       "\n",
       "    .dataframe thead th {\n",
       "        text-align: right;\n",
       "    }\n",
       "</style>\n",
       "<table border=\"1\" class=\"dataframe\">\n",
       "  <thead>\n",
       "    <tr style=\"text-align: right;\">\n",
       "      <th></th>\n",
       "      <th>Job Title</th>\n",
       "      <th>Company</th>\n",
       "      <th>Job Location</th>\n",
       "    </tr>\n",
       "  </thead>\n",
       "  <tbody>\n",
       "    <tr>\n",
       "      <th>0</th>\n",
       "      <td>Senior Data Scientist</td>\n",
       "      <td>Baker Hughes</td>\n",
       "      <td>Mumbai, Bangalore/Bengaluru</td>\n",
       "    </tr>\n",
       "    <tr>\n",
       "      <th>1</th>\n",
       "      <td>Data Science - Engineering Manager</td>\n",
       "      <td>Paytm</td>\n",
       "      <td>Noida, Mumbai, Bangalore/Bengaluru</td>\n",
       "    </tr>\n",
       "    <tr>\n",
       "      <th>2</th>\n",
       "      <td>AI Technologist Vacancy</td>\n",
       "      <td>Wipro</td>\n",
       "      <td>Kolkata, Hyderabad/Secunderabad, Pune, Ahmedab...</td>\n",
       "    </tr>\n",
       "    <tr>\n",
       "      <th>3</th>\n",
       "      <td>Job Opening with Wipro For Data Scientist posi...</td>\n",
       "      <td>Wipro</td>\n",
       "      <td>Kolkata, Hyderabad/Secunderabad, Chennai, Bang...</td>\n",
       "    </tr>\n",
       "    <tr>\n",
       "      <th>4</th>\n",
       "      <td>DATA Scientist with Fraud Analytics Experience</td>\n",
       "      <td>Concentrix Daksh Services</td>\n",
       "      <td>Bangalore/Bengaluru</td>\n",
       "    </tr>\n",
       "    <tr>\n",
       "      <th>5</th>\n",
       "      <td>Data Scientist</td>\n",
       "      <td>Applied Materials</td>\n",
       "      <td>Bangalore/Bengaluru</td>\n",
       "    </tr>\n",
       "    <tr>\n",
       "      <th>6</th>\n",
       "      <td>Data Scientist</td>\n",
       "      <td>Applied Materials</td>\n",
       "      <td>Bangalore/Bengaluru</td>\n",
       "    </tr>\n",
       "    <tr>\n",
       "      <th>7</th>\n",
       "      <td>Data Scientist</td>\n",
       "      <td>Applied Materials</td>\n",
       "      <td>Bangalore/Bengaluru</td>\n",
       "    </tr>\n",
       "    <tr>\n",
       "      <th>8</th>\n",
       "      <td>Data Scientist</td>\n",
       "      <td>Applied Materials</td>\n",
       "      <td>Bangalore/Bengaluru</td>\n",
       "    </tr>\n",
       "    <tr>\n",
       "      <th>9</th>\n",
       "      <td>Principal - Data Scientist</td>\n",
       "      <td>Schneider Electric</td>\n",
       "      <td>Bangalore/Bengaluru</td>\n",
       "    </tr>\n",
       "  </tbody>\n",
       "</table>\n",
       "</div>"
      ],
      "text/plain": [
       "                                           Job Title  \\\n",
       "0                              Senior Data Scientist   \n",
       "1                 Data Science - Engineering Manager   \n",
       "2                            AI Technologist Vacancy   \n",
       "3  Job Opening with Wipro For Data Scientist posi...   \n",
       "4     DATA Scientist with Fraud Analytics Experience   \n",
       "5                                     Data Scientist   \n",
       "6                                     Data Scientist   \n",
       "7                                     Data Scientist   \n",
       "8                                     Data Scientist   \n",
       "9                         Principal - Data Scientist   \n",
       "\n",
       "                     Company  \\\n",
       "0               Baker Hughes   \n",
       "1                      Paytm   \n",
       "2                      Wipro   \n",
       "3                      Wipro   \n",
       "4  Concentrix Daksh Services   \n",
       "5          Applied Materials   \n",
       "6          Applied Materials   \n",
       "7          Applied Materials   \n",
       "8          Applied Materials   \n",
       "9         Schneider Electric   \n",
       "\n",
       "                                        Job Location  \n",
       "0                        Mumbai, Bangalore/Bengaluru  \n",
       "1                 Noida, Mumbai, Bangalore/Bengaluru  \n",
       "2  Kolkata, Hyderabad/Secunderabad, Pune, Ahmedab...  \n",
       "3  Kolkata, Hyderabad/Secunderabad, Chennai, Bang...  \n",
       "4                                Bangalore/Bengaluru  \n",
       "5                                Bangalore/Bengaluru  \n",
       "6                                Bangalore/Bengaluru  \n",
       "7                                Bangalore/Bengaluru  \n",
       "8                                Bangalore/Bengaluru  \n",
       "9                                Bangalore/Bengaluru  "
      ]
     },
     "execution_count": 38,
     "metadata": {},
     "output_type": "execute_result"
    }
   ],
   "source": [
    "#import pandas as pd\n",
    "\n",
    "jobs = pd.DataFrame({})\n",
    "jobs['Job Title'] = job_titles[:10:]\n",
    "jobs['Company'] = company_names[:10:]\n",
    "jobs['Job Location'] = locations_list[:10:]\n",
    "\n",
    "jobs"
   ]
  },
  {
   "cell_type": "code",
   "execution_count": null,
   "id": "9a62c8cf",
   "metadata": {},
   "outputs": [],
   "source": []
  },
  {
   "cell_type": "markdown",
   "id": "6ab7e2f3",
   "metadata": {},
   "source": [
    "# Q3: In this question you have to scrape data using the filters available on the webpage as shown below:\n",
    "You have to use the location and salary filter. You have to scrape data for “Data Scientist” designation for first 10 job results. You have to scrape the job-title, job-location, company name, experience required. The location filter to be used is “Delhi/NCR”. The salary filter to be used is “3-6” lakhs The task will be done as shown in the below steps:\n",
    "\n",
    "1. first get the webpage https://www.naukri.com/\n",
    "2. Enter “Data Scientist” in “Skill, Designations, and Companies” field.\n",
    "3. Then click the search button.\n",
    "4. Then apply the location filter and salary filter by checking the respective boxes\n",
    "5. Then scrape the data for the first 10 jobs results you get.\n",
    "6. Finally create a dataframe of the scraped data. Note: All of the above steps have to be done in code. No step is to be done manually."
   ]
  },
  {
   "cell_type": "code",
   "execution_count": 39,
   "id": "82ca7093",
   "metadata": {},
   "outputs": [],
   "source": [
    "import selenium\n",
    "import pandas as pd\n",
    "from selenium import webdriver\n",
    "import warnings\n",
    "warnings.filterwarnings(\"ignore\")\n",
    "import time"
   ]
  },
  {
   "cell_type": "code",
   "execution_count": 40,
   "id": "737757f0",
   "metadata": {},
   "outputs": [],
   "source": [
    "driver = webdriver.Chrome('chromedriver.exe')"
   ]
  },
  {
   "cell_type": "code",
   "execution_count": 41,
   "id": "21cb4147",
   "metadata": {},
   "outputs": [],
   "source": [
    "driver.get('https://www.naukri.com')"
   ]
  },
  {
   "cell_type": "code",
   "execution_count": 42,
   "id": "6f3a018c",
   "metadata": {},
   "outputs": [],
   "source": [
    "search_field_designation = driver.find_element_by_class_name(\"suggestor-input \")\n",
    "search_field_designation.send_keys(\"Data Scientist\")"
   ]
  },
  {
   "cell_type": "code",
   "execution_count": 44,
   "id": "cb85bdca",
   "metadata": {},
   "outputs": [],
   "source": [
    "search_button = driver.find_element_by_xpath(\"/html/body/div/div[2]/div[3]/div/div/div[6]\")\n",
    "search_button.click()"
   ]
  },
  {
   "cell_type": "code",
   "execution_count": 45,
   "id": "0d1e8b00",
   "metadata": {},
   "outputs": [],
   "source": [
    "location_checkbox = driver.find_element_by_xpath(\"/html/body/div[1]/div[3]/div[2]/section[1]/div[2]/div[5]/div[2]/div[3]/label/i\")\n",
    "location_checkbox.click()"
   ]
  },
  {
   "cell_type": "code",
   "execution_count": 46,
   "id": "1830f90f",
   "metadata": {},
   "outputs": [],
   "source": [
    "salary_checkbox = driver.find_element_by_xpath(\"/html/body/div[1]/div[3]/div[2]/section[1]/div[2]/div[6]/div[2]/div[2]/label/i\")\n",
    "salary_checkbox.click()"
   ]
  },
  {
   "cell_type": "markdown",
   "id": "4891bcce",
   "metadata": {},
   "source": [
    "So now let's first create 4 empty lists. In these lists data will be stored while scraping. We have created 4 empty lists for 4 features which we haveto extract \n",
    "\n",
    "1. job_titles 2. company_names 3. locations_list 4. experience_list"
   ]
  },
  {
   "cell_type": "code",
   "execution_count": 47,
   "id": "2714fc32",
   "metadata": {},
   "outputs": [],
   "source": [
    "job_titles = []\n",
    "company_names = []\n",
    "locations_list = []\n",
    "experience_list = []"
   ]
  },
  {
   "cell_type": "code",
   "execution_count": 48,
   "id": "50e07055",
   "metadata": {},
   "outputs": [
    {
     "data": {
      "text/plain": [
       "[<selenium.webdriver.remote.webelement.WebElement (session=\"8d97d9148742cd0019c0422e7b8ec4e1\", element=\"5649f099-fd53-40eb-be0a-b45e6a370fae\")>,\n",
       " <selenium.webdriver.remote.webelement.WebElement (session=\"8d97d9148742cd0019c0422e7b8ec4e1\", element=\"379ad053-fd19-4f44-b380-edd2f7a71c79\")>,\n",
       " <selenium.webdriver.remote.webelement.WebElement (session=\"8d97d9148742cd0019c0422e7b8ec4e1\", element=\"de59722a-4c03-4a79-8f2c-6ae52fb3bede\")>,\n",
       " <selenium.webdriver.remote.webelement.WebElement (session=\"8d97d9148742cd0019c0422e7b8ec4e1\", element=\"b3fb028a-5b57-407a-8bf9-5d5a0eb90381\")>]"
      ]
     },
     "execution_count": 48,
     "metadata": {},
     "output_type": "execute_result"
    }
   ],
   "source": [
    "#so let's extract all the tags having the job-titles\n",
    "titles_tag = driver.find_elements_by_xpath(\"//a[@class='title fw500 ellipsis']\") #locating web element of title\n",
    "titles_tag[0:4] #using range to print only top 4 results"
   ]
  },
  {
   "cell_type": "code",
   "execution_count": 49,
   "id": "95e0acba",
   "metadata": {},
   "outputs": [
    {
     "data": {
      "text/plain": [
       "['Job Opening with Wipro For Data Scientist position',\n",
       " 'Data Scientist - Machine learning AI',\n",
       " 'Data Scientist -Machine Learning with Python',\n",
       " 'Data Scientist']"
      ]
     },
     "execution_count": 49,
     "metadata": {},
     "output_type": "execute_result"
    }
   ],
   "source": [
    "for i in titles_tag:\n",
    "    title = i.text #iterating over web element of title\n",
    "    job_titles.append(title)\n",
    "job_titles[0:4]"
   ]
  },
  {
   "cell_type": "code",
   "execution_count": 50,
   "id": "4eebbdd6",
   "metadata": {},
   "outputs": [
    {
     "data": {
      "text/plain": [
       "[<selenium.webdriver.remote.webelement.WebElement (session=\"8d97d9148742cd0019c0422e7b8ec4e1\", element=\"2f07cf60-2314-48b8-a0af-3cd8fb6082ae\")>,\n",
       " <selenium.webdriver.remote.webelement.WebElement (session=\"8d97d9148742cd0019c0422e7b8ec4e1\", element=\"6c97e90d-d97d-4997-9a29-9ea581d33831\")>,\n",
       " <selenium.webdriver.remote.webelement.WebElement (session=\"8d97d9148742cd0019c0422e7b8ec4e1\", element=\"bff6d4bb-6324-4d7f-81bf-d2691be1fa9a\")>,\n",
       " <selenium.webdriver.remote.webelement.WebElement (session=\"8d97d9148742cd0019c0422e7b8ec4e1\", element=\"bde9de86-5d13-44d4-b715-68a9712b9bf6\")>]"
      ]
     },
     "execution_count": 50,
     "metadata": {},
     "output_type": "execute_result"
    }
   ],
   "source": [
    "#so let's extract all the tags having company names \n",
    "companies_tag = driver.find_elements_by_xpath(\"//a[@class='subTitle ellipsis fleft']\") #locating web element of title\n",
    "companies_tag[0:4] #using range to print only top 4 results"
   ]
  },
  {
   "cell_type": "code",
   "execution_count": 51,
   "id": "db88688c",
   "metadata": {},
   "outputs": [
    {
     "data": {
      "text/plain": [
       "['Wipro',\n",
       " 'Teq Analytics',\n",
       " 'Genpact',\n",
       " 'SS Supply Chain Solutions Pvt. Ltd. (3SC)']"
      ]
     },
     "execution_count": 51,
     "metadata": {},
     "output_type": "execute_result"
    }
   ],
   "source": [
    "for i in companies_tag:\n",
    "    company_name = i.text #iterating over web element of title\n",
    "    company_names.append(company_name)\n",
    "company_names[0:4]"
   ]
  },
  {
   "cell_type": "code",
   "execution_count": 52,
   "id": "47e8fed8",
   "metadata": {},
   "outputs": [
    {
     "data": {
      "text/plain": [
       "[<selenium.webdriver.remote.webelement.WebElement (session=\"8d97d9148742cd0019c0422e7b8ec4e1\", element=\"308f3464-6e93-4281-a177-4c5ecb6e37bb\")>,\n",
       " <selenium.webdriver.remote.webelement.WebElement (session=\"8d97d9148742cd0019c0422e7b8ec4e1\", element=\"df887fa5-a2dc-4b0d-b7f6-340edc589f4f\")>,\n",
       " <selenium.webdriver.remote.webelement.WebElement (session=\"8d97d9148742cd0019c0422e7b8ec4e1\", element=\"554648d6-8762-482c-b74f-31418eae9930\")>,\n",
       " <selenium.webdriver.remote.webelement.WebElement (session=\"8d97d9148742cd0019c0422e7b8ec4e1\", element=\"50e6ff44-d13a-4f81-9d03-f83d756d7df1\")>]"
      ]
     },
     "execution_count": 52,
     "metadata": {},
     "output_type": "execute_result"
    }
   ],
   "source": [
    "#so let's extract all the tags having company names \n",
    "experience_tag = driver.find_elements_by_xpath(\"//li[@class='fleft grey-text br2 placeHolderLi experience']/span\") #locating web element of title\n",
    "experience_tag[0:4] #using range to print only top 4 results"
   ]
  },
  {
   "cell_type": "code",
   "execution_count": 53,
   "id": "5c7fae2f",
   "metadata": {},
   "outputs": [
    {
     "data": {
      "text/plain": [
       "['2-7 Yrs', '3-8 Yrs', '1-4 Yrs', '2-5 Yrs']"
      ]
     },
     "execution_count": 53,
     "metadata": {},
     "output_type": "execute_result"
    }
   ],
   "source": [
    "for i in experience_tag:\n",
    "    experience = i.text #iterating over web element of title\n",
    "    experience_list.append(experience)\n",
    "experience_list[0:4]"
   ]
  },
  {
   "cell_type": "code",
   "execution_count": 54,
   "id": "c0575dc1",
   "metadata": {},
   "outputs": [
    {
     "data": {
      "text/plain": [
       "[<selenium.webdriver.remote.webelement.WebElement (session=\"8d97d9148742cd0019c0422e7b8ec4e1\", element=\"95e3acad-fdbc-41bc-b4d5-309f74978abb\")>,\n",
       " <selenium.webdriver.remote.webelement.WebElement (session=\"8d97d9148742cd0019c0422e7b8ec4e1\", element=\"4b17bc8f-2c22-4d87-a542-9af2860db769\")>,\n",
       " <selenium.webdriver.remote.webelement.WebElement (session=\"8d97d9148742cd0019c0422e7b8ec4e1\", element=\"1c59c3dd-56d5-4880-bdf4-7885fe5dc87a\")>,\n",
       " <selenium.webdriver.remote.webelement.WebElement (session=\"8d97d9148742cd0019c0422e7b8ec4e1\", element=\"e0f39a7e-bd7d-4b08-8354-58abe9a4974a\")>]"
      ]
     },
     "execution_count": 54,
     "metadata": {},
     "output_type": "execute_result"
    }
   ],
   "source": [
    "#so let's extract all the tags having company names \n",
    "location_tag = driver.find_elements_by_xpath(\"//li[@class='fleft grey-text br2 placeHolderLi location']/span[1]\") #locating web element of title\n",
    "#indexing in html (xpath) starts from 1. not 0\n",
    "location_tag[0:4] #using range to print only top 4 results"
   ]
  },
  {
   "cell_type": "code",
   "execution_count": 55,
   "id": "211fe6bd",
   "metadata": {},
   "outputs": [
    {
     "data": {
      "text/plain": [
       "['Kolkata, Hyderabad/Secunderabad, Chennai, Bangalore/Bengaluru, Delhi / NCR, Mumbai (All Areas)',\n",
       " 'Bangalore/Bengaluru, Delhi / NCR, Mumbai (All Areas)',\n",
       " 'Noida, New Delhi, Gurgaon/Gurugram, Delhi / NCR',\n",
       " 'Pune, Gurgaon/Gurugram, Bangalore/Bengaluru']"
      ]
     },
     "execution_count": 55,
     "metadata": {},
     "output_type": "execute_result"
    }
   ],
   "source": [
    "for i in location_tag:\n",
    "    location = i.text #iterating over web element of title\n",
    "    locations_list.append(location)\n",
    "locations_list[0:4]"
   ]
  },
  {
   "cell_type": "code",
   "execution_count": 56,
   "id": "0dc40677",
   "metadata": {},
   "outputs": [
    {
     "data": {
      "text/html": [
       "<div>\n",
       "<style scoped>\n",
       "    .dataframe tbody tr th:only-of-type {\n",
       "        vertical-align: middle;\n",
       "    }\n",
       "\n",
       "    .dataframe tbody tr th {\n",
       "        vertical-align: top;\n",
       "    }\n",
       "\n",
       "    .dataframe thead th {\n",
       "        text-align: right;\n",
       "    }\n",
       "</style>\n",
       "<table border=\"1\" class=\"dataframe\">\n",
       "  <thead>\n",
       "    <tr style=\"text-align: right;\">\n",
       "      <th></th>\n",
       "      <th>Job Title</th>\n",
       "      <th>Company</th>\n",
       "      <th>Experience Reqd</th>\n",
       "      <th>Job Location</th>\n",
       "    </tr>\n",
       "  </thead>\n",
       "  <tbody>\n",
       "    <tr>\n",
       "      <th>0</th>\n",
       "      <td>Job Opening with Wipro For Data Scientist posi...</td>\n",
       "      <td>Wipro</td>\n",
       "      <td>2-7 Yrs</td>\n",
       "      <td>Kolkata, Hyderabad/Secunderabad, Chennai, Bang...</td>\n",
       "    </tr>\n",
       "    <tr>\n",
       "      <th>1</th>\n",
       "      <td>Data Scientist - Machine learning AI</td>\n",
       "      <td>Teq Analytics</td>\n",
       "      <td>3-8 Yrs</td>\n",
       "      <td>Bangalore/Bengaluru, Delhi / NCR, Mumbai (All ...</td>\n",
       "    </tr>\n",
       "    <tr>\n",
       "      <th>2</th>\n",
       "      <td>Data Scientist -Machine Learning with Python</td>\n",
       "      <td>Genpact</td>\n",
       "      <td>1-4 Yrs</td>\n",
       "      <td>Noida, New Delhi, Gurgaon/Gurugram, Delhi / NCR</td>\n",
       "    </tr>\n",
       "    <tr>\n",
       "      <th>3</th>\n",
       "      <td>Data Scientist</td>\n",
       "      <td>SS Supply Chain Solutions Pvt. Ltd. (3SC)</td>\n",
       "      <td>2-5 Yrs</td>\n",
       "      <td>Pune, Gurgaon/Gurugram, Bangalore/Bengaluru</td>\n",
       "    </tr>\n",
       "    <tr>\n",
       "      <th>4</th>\n",
       "      <td>Data Scientist - MIND Infotech</td>\n",
       "      <td>MOTHERSONSUMI INFOTECH &amp; DESIGNS LIMITED</td>\n",
       "      <td>4-8 Yrs</td>\n",
       "      <td>Noida</td>\n",
       "    </tr>\n",
       "    <tr>\n",
       "      <th>5</th>\n",
       "      <td>Data Scientist - MIND Infotech</td>\n",
       "      <td>MOTHERSONSUMI INFOTECH &amp; DESIGNS LIMITED</td>\n",
       "      <td>4-8 Yrs</td>\n",
       "      <td>Noida</td>\n",
       "    </tr>\n",
       "    <tr>\n",
       "      <th>6</th>\n",
       "      <td>Data Scientist - Predictive Analytics</td>\n",
       "      <td>Confidential</td>\n",
       "      <td>1-6 Yrs</td>\n",
       "      <td>Noida, Mumbai, Chandigarh, Hyderabad/Secundera...</td>\n",
       "    </tr>\n",
       "    <tr>\n",
       "      <th>7</th>\n",
       "      <td>Data Scientist - Internet Jobs - II</td>\n",
       "      <td>Jobs Territory</td>\n",
       "      <td>3-6 Yrs</td>\n",
       "      <td>Bangalore/Bengaluru, Delhi / NCR, Mumbai (All ...</td>\n",
       "    </tr>\n",
       "    <tr>\n",
       "      <th>8</th>\n",
       "      <td>Machine Learning Engineer | Data Engineer | Da...</td>\n",
       "      <td>Tidyquant (OPC) Private Limited</td>\n",
       "      <td>1-3 Yrs</td>\n",
       "      <td>Chennai, Bangalore/Bengaluru, Delhi / NCR(Sect...</td>\n",
       "    </tr>\n",
       "    <tr>\n",
       "      <th>9</th>\n",
       "      <td>Dot Net Developer</td>\n",
       "      <td>Nibha Infotech Private Limited</td>\n",
       "      <td>3-8 Yrs</td>\n",
       "      <td>Gurgaon/Gurugram, Delhi / NCR</td>\n",
       "    </tr>\n",
       "  </tbody>\n",
       "</table>\n",
       "</div>"
      ],
      "text/plain": [
       "                                           Job Title  \\\n",
       "0  Job Opening with Wipro For Data Scientist posi...   \n",
       "1               Data Scientist - Machine learning AI   \n",
       "2       Data Scientist -Machine Learning with Python   \n",
       "3                                     Data Scientist   \n",
       "4                     Data Scientist - MIND Infotech   \n",
       "5                     Data Scientist - MIND Infotech   \n",
       "6              Data Scientist - Predictive Analytics   \n",
       "7                Data Scientist - Internet Jobs - II   \n",
       "8  Machine Learning Engineer | Data Engineer | Da...   \n",
       "9                                  Dot Net Developer   \n",
       "\n",
       "                                     Company Experience Reqd   \\\n",
       "0                                      Wipro          2-7 Yrs   \n",
       "1                              Teq Analytics          3-8 Yrs   \n",
       "2                                    Genpact          1-4 Yrs   \n",
       "3  SS Supply Chain Solutions Pvt. Ltd. (3SC)          2-5 Yrs   \n",
       "4   MOTHERSONSUMI INFOTECH & DESIGNS LIMITED          4-8 Yrs   \n",
       "5   MOTHERSONSUMI INFOTECH & DESIGNS LIMITED          4-8 Yrs   \n",
       "6                               Confidential          1-6 Yrs   \n",
       "7                             Jobs Territory          3-6 Yrs   \n",
       "8            Tidyquant (OPC) Private Limited          1-3 Yrs   \n",
       "9             Nibha Infotech Private Limited          3-8 Yrs   \n",
       "\n",
       "                                        Job Location  \n",
       "0  Kolkata, Hyderabad/Secunderabad, Chennai, Bang...  \n",
       "1  Bangalore/Bengaluru, Delhi / NCR, Mumbai (All ...  \n",
       "2    Noida, New Delhi, Gurgaon/Gurugram, Delhi / NCR  \n",
       "3        Pune, Gurgaon/Gurugram, Bangalore/Bengaluru  \n",
       "4                                              Noida  \n",
       "5                                              Noida  \n",
       "6  Noida, Mumbai, Chandigarh, Hyderabad/Secundera...  \n",
       "7  Bangalore/Bengaluru, Delhi / NCR, Mumbai (All ...  \n",
       "8  Chennai, Bangalore/Bengaluru, Delhi / NCR(Sect...  \n",
       "9                      Gurgaon/Gurugram, Delhi / NCR  "
      ]
     },
     "execution_count": 56,
     "metadata": {},
     "output_type": "execute_result"
    }
   ],
   "source": [
    "#import pandas as pd\n",
    "\n",
    "jobs = pd.DataFrame({})\n",
    "jobs['Job Title'] = job_titles[:10:]\n",
    "jobs['Company'] = company_names[:10:]\n",
    "jobs['Experience Reqd '] = experience_list[:10:]\n",
    "jobs['Job Location'] = locations_list[:10:]\n",
    "\n",
    "jobs"
   ]
  },
  {
   "cell_type": "code",
   "execution_count": null,
   "id": "35d1eb87",
   "metadata": {},
   "outputs": [],
   "source": []
  },
  {
   "cell_type": "markdown",
   "id": "5c8b66eb",
   "metadata": {},
   "source": [
    "# Q4: Scrape data of first 100 sunglasses listings on flipkart.com. You have to scrape four attributes:\n",
    "1. Brand\n",
    "2. Product Description\n",
    "3. Price"
   ]
  },
  {
   "cell_type": "code",
   "execution_count": 57,
   "id": "4dd2f306",
   "metadata": {},
   "outputs": [],
   "source": [
    "import selenium\n",
    "import pandas as pd\n",
    "from selenium import webdriver\n",
    "import warnings\n",
    "warnings.filterwarnings(\"ignore\")\n",
    "import time"
   ]
  },
  {
   "cell_type": "code",
   "execution_count": 58,
   "id": "c5319685",
   "metadata": {},
   "outputs": [],
   "source": [
    "driver = webdriver.Chrome('chromedriver.exe')"
   ]
  },
  {
   "cell_type": "code",
   "execution_count": 59,
   "id": "62cfe4ef",
   "metadata": {},
   "outputs": [],
   "source": [
    "driver.get('https://www.flipkart.com')"
   ]
  },
  {
   "cell_type": "code",
   "execution_count": 62,
   "id": "2be62f5e",
   "metadata": {},
   "outputs": [],
   "source": [
    "try:\n",
    "    button = driver.find_element_by_xpath(\"//button[@class='_2KpZ6l _2doB4z']\")\n",
    "    button.click()\n",
    "except:\n",
    "    pass"
   ]
  },
  {
   "cell_type": "code",
   "execution_count": 63,
   "id": "57141d0b",
   "metadata": {},
   "outputs": [],
   "source": [
    "search_sunglass = driver.find_element_by_xpath(\"//input[@class='_3704LK']\")\n",
    "search_sunglass.send_keys(\"Sunglasses\")\n",
    "search_sunglass.send_keys(u'\\ue007')"
   ]
  },
  {
   "cell_type": "code",
   "execution_count": 65,
   "id": "83d21487",
   "metadata": {},
   "outputs": [
    {
     "name": "stdout",
     "output_type": "stream",
     "text": [
      "160\n"
     ]
    }
   ],
   "source": [
    "desc1 = []\n",
    "for counter in range(0,4):\n",
    "    description = driver.find_elements_by_xpath(\"//div[@class='_2B099V']\")\n",
    "    for i in description:\n",
    "        desc1.append(i.text.split('\\n'))\n",
    "    #browser.execute_script(\"window.scrollTo(0,document.body.scrollHeight)\")\n",
    "    time.sleep(10)\n",
    "    next_button = driver.find_element_by_xpath(\"/html/body/div[1]/div/div[3]/div[1]/div[2]/div[12]/div/div/nav/a[11]\")\n",
    "    next_button.click()\n",
    "    time.sleep(15)\n",
    "    counter=counter+1\n",
    "print(len(desc1))"
   ]
  },
  {
   "cell_type": "code",
   "execution_count": 66,
   "id": "78f9f148",
   "metadata": {},
   "outputs": [],
   "source": [
    "brand = [i[0] for i in desc1]"
   ]
  },
  {
   "cell_type": "code",
   "execution_count": 67,
   "id": "e54d3eb7",
   "metadata": {},
   "outputs": [],
   "source": [
    "description = [i[1] for i in desc1]"
   ]
  },
  {
   "cell_type": "code",
   "execution_count": 68,
   "id": "e6ef5b6b",
   "metadata": {},
   "outputs": [],
   "source": [
    "price = [i[2] for i in desc1]"
   ]
  },
  {
   "cell_type": "code",
   "execution_count": 69,
   "id": "002c0c4f",
   "metadata": {},
   "outputs": [],
   "source": [
    "prod_price = [i.split('₹', 2)[1] for i in price]\n",
    "discount = [i[-7:] for i in price]"
   ]
  },
  {
   "cell_type": "code",
   "execution_count": 72,
   "id": "64dacd05",
   "metadata": {},
   "outputs": [
    {
     "name": "stdout",
     "output_type": "stream",
     "text": [
      "160 160 160 160\n"
     ]
    }
   ],
   "source": [
    "print(len(brand), len(description), len(prod_price), len(discount))"
   ]
  },
  {
   "cell_type": "code",
   "execution_count": 73,
   "id": "342f45e6",
   "metadata": {},
   "outputs": [
    {
     "data": {
      "text/html": [
       "<div>\n",
       "<style scoped>\n",
       "    .dataframe tbody tr th:only-of-type {\n",
       "        vertical-align: middle;\n",
       "    }\n",
       "\n",
       "    .dataframe tbody tr th {\n",
       "        vertical-align: top;\n",
       "    }\n",
       "\n",
       "    .dataframe thead th {\n",
       "        text-align: right;\n",
       "    }\n",
       "</style>\n",
       "<table border=\"1\" class=\"dataframe\">\n",
       "  <thead>\n",
       "    <tr style=\"text-align: right;\">\n",
       "      <th></th>\n",
       "      <th>Brand</th>\n",
       "      <th>Description</th>\n",
       "      <th>Price</th>\n",
       "      <th>Discount</th>\n",
       "    </tr>\n",
       "  </thead>\n",
       "  <tbody>\n",
       "    <tr>\n",
       "      <th>0</th>\n",
       "      <td>Singco India</td>\n",
       "      <td>Gradient, Toughened Glass Lens, UV Protection ...</td>\n",
       "      <td>598</td>\n",
       "      <td>80% off</td>\n",
       "    </tr>\n",
       "    <tr>\n",
       "      <th>1</th>\n",
       "      <td>Arnette</td>\n",
       "      <td>Others Oval Sunglasses (53)</td>\n",
       "      <td>2,879</td>\n",
       "      <td>54% off</td>\n",
       "    </tr>\n",
       "    <tr>\n",
       "      <th>2</th>\n",
       "      <td>Mi</td>\n",
       "      <td>Polarized Aviator Sunglasses (Free Size)</td>\n",
       "      <td>839</td>\n",
       "      <td>30% off</td>\n",
       "    </tr>\n",
       "    <tr>\n",
       "      <th>3</th>\n",
       "      <td>SRPM</td>\n",
       "      <td>UV Protection Wayfarer Sunglasses (50)</td>\n",
       "      <td>211</td>\n",
       "      <td>83% off</td>\n",
       "    </tr>\n",
       "    <tr>\n",
       "      <th>4</th>\n",
       "      <td>Fastrack</td>\n",
       "      <td>UV Protection Wayfarer Sunglasses (Free Size)</td>\n",
       "      <td>799</td>\n",
       "      <td>20% off</td>\n",
       "    </tr>\n",
       "    <tr>\n",
       "      <th>...</th>\n",
       "      <td>...</td>\n",
       "      <td>...</td>\n",
       "      <td>...</td>\n",
       "      <td>...</td>\n",
       "    </tr>\n",
       "    <tr>\n",
       "      <th>95</th>\n",
       "      <td>Arnette</td>\n",
       "      <td>Mirrored Rectangular Sunglasses (34)</td>\n",
       "      <td>2,834</td>\n",
       "      <td>54% off</td>\n",
       "    </tr>\n",
       "    <tr>\n",
       "      <th>96</th>\n",
       "      <td>Urbanic</td>\n",
       "      <td>Others Retro Square Sunglasses (Free Size)</td>\n",
       "      <td>399</td>\n",
       "      <td>55% off</td>\n",
       "    </tr>\n",
       "    <tr>\n",
       "      <th>97</th>\n",
       "      <td>Ray-Ban</td>\n",
       "      <td>Gradient Round Sunglasses (54)</td>\n",
       "      <td>9,259</td>\n",
       "      <td>10% off</td>\n",
       "    </tr>\n",
       "    <tr>\n",
       "      <th>98</th>\n",
       "      <td>kingsunglasses</td>\n",
       "      <td>Mirrored, UV Protection Wayfarer Sunglasses (F...</td>\n",
       "      <td>269</td>\n",
       "      <td>86% off</td>\n",
       "    </tr>\n",
       "    <tr>\n",
       "      <th>99</th>\n",
       "      <td>john jacobs</td>\n",
       "      <td>UV Protection Clubmaster Sunglasses (47)</td>\n",
       "      <td>3,900</td>\n",
       "      <td>35% off</td>\n",
       "    </tr>\n",
       "  </tbody>\n",
       "</table>\n",
       "<p>100 rows × 4 columns</p>\n",
       "</div>"
      ],
      "text/plain": [
       "             Brand                                        Description  Price  \\\n",
       "0     Singco India  Gradient, Toughened Glass Lens, UV Protection ...    598   \n",
       "1          Arnette                        Others Oval Sunglasses (53)  2,879   \n",
       "2               Mi           Polarized Aviator Sunglasses (Free Size)    839   \n",
       "3             SRPM             UV Protection Wayfarer Sunglasses (50)    211   \n",
       "4         Fastrack      UV Protection Wayfarer Sunglasses (Free Size)    799   \n",
       "..             ...                                                ...    ...   \n",
       "95         Arnette               Mirrored Rectangular Sunglasses (34)  2,834   \n",
       "96         Urbanic         Others Retro Square Sunglasses (Free Size)    399   \n",
       "97         Ray-Ban                     Gradient Round Sunglasses (54)  9,259   \n",
       "98  kingsunglasses  Mirrored, UV Protection Wayfarer Sunglasses (F...    269   \n",
       "99     john jacobs           UV Protection Clubmaster Sunglasses (47)  3,900   \n",
       "\n",
       "   Discount  \n",
       "0   80% off  \n",
       "1   54% off  \n",
       "2   30% off  \n",
       "3   83% off  \n",
       "4   20% off  \n",
       "..      ...  \n",
       "95  54% off  \n",
       "96  55% off  \n",
       "97  10% off  \n",
       "98  86% off  \n",
       "99  35% off  \n",
       "\n",
       "[100 rows x 4 columns]"
      ]
     },
     "execution_count": 73,
     "metadata": {},
     "output_type": "execute_result"
    }
   ],
   "source": [
    "Flipkart = pd.DataFrame()\n",
    "Flipkart['Brand'] = brand[:100]\n",
    "Flipkart['Description'] = description[:100]\n",
    "Flipkart['Price'] = prod_price[:100]\n",
    "Flipkart['Discount'] = discount[:100]\n",
    "Flipkart"
   ]
  },
  {
   "cell_type": "code",
   "execution_count": null,
   "id": "cf36b4fc",
   "metadata": {},
   "outputs": [],
   "source": []
  },
  {
   "cell_type": "markdown",
   "id": "6c9e77c1",
   "metadata": {},
   "source": [
    "# Q5: Scrape 100 reviews data from flipkart.com for iphone11 phone."
   ]
  },
  {
   "cell_type": "code",
   "execution_count": 74,
   "id": "5cf24af5",
   "metadata": {},
   "outputs": [],
   "source": [
    "import selenium\n",
    "import pandas as pd\n",
    "from selenium import webdriver\n",
    "import warnings\n",
    "warnings.filterwarnings(\"ignore\")\n",
    "import time"
   ]
  },
  {
   "cell_type": "code",
   "execution_count": 77,
   "id": "b0174c0a",
   "metadata": {},
   "outputs": [],
   "source": [
    "driver = webdriver.Chrome('chromedriver.exe')"
   ]
  },
  {
   "cell_type": "code",
   "execution_count": 82,
   "id": "9dc22687",
   "metadata": {},
   "outputs": [],
   "source": [
    "driver.get(\"https://www.flipkart.com/apple-iphone-11-black-64-gb-includes-earpods-power-adapter/p/itm0f37c2240b217?pid=MOBFKCTSVZAXUHGR&lid=LSTMOBFKC\")"
   ]
  },
  {
   "cell_type": "code",
   "execution_count": 87,
   "id": "b45e9b48",
   "metadata": {},
   "outputs": [],
   "source": [
    "review_button =driver.find_element_by_xpath(\"/html/body/div[1]/div/div[3]/div[1]/div[2]/div[9]/div/div/div[5]/div/a/div/span\")\n",
    "review_button.click()"
   ]
  },
  {
   "cell_type": "code",
   "execution_count": 88,
   "id": "0596b23c",
   "metadata": {},
   "outputs": [],
   "source": [
    "time.sleep(5)"
   ]
  },
  {
   "cell_type": "code",
   "execution_count": 90,
   "id": "603ad749",
   "metadata": {},
   "outputs": [],
   "source": [
    "ratings=[]\n",
    "review_summary=[]\n",
    "full_review = []\n",
    "for counter in range(0,11):\n",
    "    rating = driver.find_elements_by_xpath(\"//div[@class='_3LWZlK _1BLPMq']\")\n",
    "    for i in rating:\n",
    "        ratings.append(i.text)\n",
    "    summary = driver.find_elements_by_xpath(\"//p[@class='_2-N8zT']\")\n",
    "    for i in summary:\n",
    "        review_summary.append(i.text)\n",
    "    review = driver.find_elements_by_xpath(\"//div[@class='t-ZTKy']\")\n",
    "    for i in review:\n",
    "        full_review.append(i.text.replace('\\n','.'))\n",
    "    time.sleep(5)\n",
    "    next_button = driver.find_element_by_xpath(\"/html/body/div[1]/div/div[3]/div/div/div[2]/div[13]/div/div/nav/a[11]\")\n",
    "    next_button.click()\n",
    "    time.sleep(15)\n",
    "    counter=counter+1"
   ]
  },
  {
   "cell_type": "code",
   "execution_count": 91,
   "id": "4a6d9836",
   "metadata": {},
   "outputs": [
    {
     "name": "stdout",
     "output_type": "stream",
     "text": [
      "107\n",
      "110\n",
      "110\n"
     ]
    }
   ],
   "source": [
    "print(len(ratings))\n",
    "print(len(review_summary))\n",
    "print(len(full_review))"
   ]
  },
  {
   "cell_type": "code",
   "execution_count": 92,
   "id": "dae13f1a",
   "metadata": {},
   "outputs": [
    {
     "data": {
      "text/html": [
       "<div>\n",
       "<style scoped>\n",
       "    .dataframe tbody tr th:only-of-type {\n",
       "        vertical-align: middle;\n",
       "    }\n",
       "\n",
       "    .dataframe tbody tr th {\n",
       "        vertical-align: top;\n",
       "    }\n",
       "\n",
       "    .dataframe thead th {\n",
       "        text-align: right;\n",
       "    }\n",
       "</style>\n",
       "<table border=\"1\" class=\"dataframe\">\n",
       "  <thead>\n",
       "    <tr style=\"text-align: right;\">\n",
       "      <th></th>\n",
       "      <th>Ratings</th>\n",
       "      <th>Review Summary</th>\n",
       "      <th>Full Review</th>\n",
       "    </tr>\n",
       "  </thead>\n",
       "  <tbody>\n",
       "    <tr>\n",
       "      <th>0</th>\n",
       "      <td>5</td>\n",
       "      <td>Simply awesome</td>\n",
       "      <td>Really satisfied with the Product I received.....</td>\n",
       "    </tr>\n",
       "    <tr>\n",
       "      <th>1</th>\n",
       "      <td>5</td>\n",
       "      <td>Best in the market!</td>\n",
       "      <td>Great iPhone very snappy experience as apple k...</td>\n",
       "    </tr>\n",
       "    <tr>\n",
       "      <th>2</th>\n",
       "      <td>5</td>\n",
       "      <td>Perfect product!</td>\n",
       "      <td>Amazing phone with great cameras and better ba...</td>\n",
       "    </tr>\n",
       "    <tr>\n",
       "      <th>3</th>\n",
       "      <td>5</td>\n",
       "      <td>Worth every penny</td>\n",
       "      <td>Previously I was using one plus 3t it was a gr...</td>\n",
       "    </tr>\n",
       "    <tr>\n",
       "      <th>4</th>\n",
       "      <td>5</td>\n",
       "      <td>Highly recommended</td>\n",
       "      <td>What a camera .....just awesome ..you can feel...</td>\n",
       "    </tr>\n",
       "    <tr>\n",
       "      <th>...</th>\n",
       "      <td>...</td>\n",
       "      <td>...</td>\n",
       "      <td>...</td>\n",
       "    </tr>\n",
       "    <tr>\n",
       "      <th>95</th>\n",
       "      <td>5</td>\n",
       "      <td>Worth every penny</td>\n",
       "      <td>Really a giant for battery backup and really g...</td>\n",
       "    </tr>\n",
       "    <tr>\n",
       "      <th>96</th>\n",
       "      <td>4</td>\n",
       "      <td>Wonderful</td>\n",
       "      <td>loved it</td>\n",
       "    </tr>\n",
       "    <tr>\n",
       "      <th>97</th>\n",
       "      <td>5</td>\n",
       "      <td>Wonderful</td>\n",
       "      <td>camera is very good.</td>\n",
       "    </tr>\n",
       "    <tr>\n",
       "      <th>98</th>\n",
       "      <td>5</td>\n",
       "      <td>Not recommended at all</td>\n",
       "      <td>Very bad experience on buying iphone 11 on fli...</td>\n",
       "    </tr>\n",
       "    <tr>\n",
       "      <th>99</th>\n",
       "      <td>5</td>\n",
       "      <td>Must buy!</td>\n",
       "      <td>nice phone....</td>\n",
       "    </tr>\n",
       "  </tbody>\n",
       "</table>\n",
       "<p>100 rows × 3 columns</p>\n",
       "</div>"
      ],
      "text/plain": [
       "   Ratings          Review Summary  \\\n",
       "0        5          Simply awesome   \n",
       "1        5     Best in the market!   \n",
       "2        5        Perfect product!   \n",
       "3        5       Worth every penny   \n",
       "4        5      Highly recommended   \n",
       "..     ...                     ...   \n",
       "95       5       Worth every penny   \n",
       "96       4               Wonderful   \n",
       "97       5               Wonderful   \n",
       "98       5  Not recommended at all   \n",
       "99       5               Must buy!   \n",
       "\n",
       "                                          Full Review  \n",
       "0   Really satisfied with the Product I received.....  \n",
       "1   Great iPhone very snappy experience as apple k...  \n",
       "2   Amazing phone with great cameras and better ba...  \n",
       "3   Previously I was using one plus 3t it was a gr...  \n",
       "4   What a camera .....just awesome ..you can feel...  \n",
       "..                                                ...  \n",
       "95  Really a giant for battery backup and really g...  \n",
       "96                                           loved it  \n",
       "97                               camera is very good.  \n",
       "98  Very bad experience on buying iphone 11 on fli...  \n",
       "99                                     nice phone....  \n",
       "\n",
       "[100 rows x 3 columns]"
      ]
     },
     "execution_count": 92,
     "metadata": {},
     "output_type": "execute_result"
    }
   ],
   "source": [
    "iphone = pd.DataFrame()\n",
    "iphone['Ratings'] = ratings[:100]\n",
    "iphone['Review Summary'] = review_summary[:100]\n",
    "iphone['Full Review'] = full_review[:100]\n",
    "iphone"
   ]
  },
  {
   "cell_type": "code",
   "execution_count": 81,
   "id": "28d0865d",
   "metadata": {},
   "outputs": [],
   "source": []
  },
  {
   "cell_type": "markdown",
   "id": "96a90169",
   "metadata": {},
   "source": [
    "# Q6: Scrape data for first 100 sneakers you find when you visit flipkart.com and search for “sneakers” in the\n",
    "search field.\n",
    "You have to scrape 4 attributes of each sneaker:\n",
    "1. Brand\n",
    "2. Product Description\n",
    "3. Price"
   ]
  },
  {
   "cell_type": "code",
   "execution_count": 93,
   "id": "c5c355d2",
   "metadata": {},
   "outputs": [],
   "source": [
    "driver = webdriver.Chrome('chromedriver.exe')\n",
    "driver.get('https://www.flipkart.com')\n",
    "try:\n",
    "    button = driver.find_element_by_xpath(\"//button[@class='_2KpZ6l _2doB4z']\")\n",
    "    button.click()\n",
    "except:\n",
    "    pass\n",
    "search_sneakers = driver.find_element_by_xpath(\"//input[@class='_3704LK']\")\n",
    "search_sneakers.send_keys(\"Sneakers\")\n",
    "search_sneakers.send_keys(u'\\ue007')"
   ]
  },
  {
   "cell_type": "code",
   "execution_count": 94,
   "id": "bd42471e",
   "metadata": {},
   "outputs": [
    {
     "name": "stdout",
     "output_type": "stream",
     "text": [
      "160\n"
     ]
    }
   ],
   "source": [
    "desc1 = []\n",
    "for counter in range(0,4):\n",
    "    description = driver.find_elements_by_xpath(\"//div[@class='_2B099V']\")\n",
    "    for i in description:\n",
    "        desc1.append(i.text.split('\\n'))\n",
    "    #browser.execute_script(\"window.scrollTo(0,document.body.scrollHeight)\")\n",
    "    time.sleep(10)\n",
    "    next_button = driver.find_element_by_xpath(\"/html/body/div[1]/div/div[3]/div[1]/div[2]/div[12]/div/div/nav/a[11]\")\n",
    "    next_button.click()\n",
    "    time.sleep(15)\n",
    "    counter=counter+1\n",
    "print(len(desc1))"
   ]
  },
  {
   "cell_type": "code",
   "execution_count": 95,
   "id": "acc71511",
   "metadata": {},
   "outputs": [
    {
     "data": {
      "text/plain": [
       "[['Hot & Knot',\n",
       "  'High Top Casual Party Wear Boot Stylish Sneakers For Me...',\n",
       "  '₹559₹99944% off',\n",
       "  'Free delivery',\n",
       "  'Deal of the Day'],\n",
       " ['RODDICK SHOES',\n",
       "  'Fashion Outdoor Canvas Casual Light Weight Lace-up Even...',\n",
       "  '₹485₹99951% off',\n",
       "  'Free delivery'],\n",
       " ['Magnolia',\n",
       "  'Sneakers For Men',\n",
       "  '₹374₹99962% off',\n",
       "  'Delivery by 2 PM, Tomorrow'],\n",
       " ['BRUTON',\n",
       "  'Lightweight Pack Of 1 Trendy Sneakers Sneakers For Men',\n",
       "  '₹188₹59968% off',\n",
       "  'Free delivery',\n",
       "  'Deal of the Day'],\n",
       " ['BIRDE',\n",
       "  'Stylish Comfortable Lightweight, Breathable Walking Sho...',\n",
       "  '₹314₹99968% off',\n",
       "  'Free delivery',\n",
       "  'Deal of the Day'],\n",
       " ['BRUTON',\n",
       "  'Modern Trendy Sneakers Shoes Sneakers For Men',\n",
       "  '₹299₹1,29976% off',\n",
       "  'Free delivery',\n",
       "  'Deal of the Day'],\n",
       " ['Layasa',\n",
       "  'Sneakers For Men',\n",
       "  '₹399₹99960% off',\n",
       "  'Free delivery',\n",
       "  'Lowest price since launch'],\n",
       " ['ZF - ALFIYA', 'Sneakers For Men', '₹439₹99956% off', 'Free delivery'],\n",
       " ['Robbie jones',\n",
       "  'Casual Sneakers Green Shoes For Men And Boys Sneakers F...',\n",
       "  '₹499₹99950% off',\n",
       "  'Free delivery'],\n",
       " ['URBANBOX', 'Sneakers Sneakers For Men', '₹198₹99980% off'],\n",
       " ['BRUTON',\n",
       "  'Modern Trendy Sneakers Shoes Sneakers For Men',\n",
       "  '₹269₹1,29979% off',\n",
       "  'Free delivery',\n",
       "  'Deal of the Day'],\n",
       " ['DOC Martin',\n",
       "  'White Ranger Sneakers For Men',\n",
       "  '₹1,116₹2,49955% off',\n",
       "  'Free delivery'],\n",
       " ['Labbin', 'Sneakers For Men', '₹499₹99950% off', 'Free delivery'],\n",
       " ['Robbie jones',\n",
       "  'Casual Sneakers Canvas Shoes For Men Sneakers For Men',\n",
       "  '₹499₹99950% off',\n",
       "  'Free delivery'],\n",
       " ['Robbie jones', 'Sneakers For Men', '₹499₹99950% off', 'Free delivery'],\n",
       " ['EZDEZARIO',\n",
       "  'Casual Shoes for Men Sneakers For Men',\n",
       "  '₹399₹99960% off',\n",
       "  'Free delivery'],\n",
       " ['aadi',\n",
       "  'Sneakers For Men',\n",
       "  '₹319₹99968% off',\n",
       "  'Free delivery',\n",
       "  'Buy 2 items, save extra 5%'],\n",
       " ['Dicy', 'Sneakers For Men', '₹299₹59950% off', 'Free delivery'],\n",
       " ['CAMPUS',\n",
       "  'KING PRO Sneakers For Men',\n",
       "  '₹839₹1,09923% off',\n",
       "  'Delivery by 2 PM, Tomorrow',\n",
       "  'Buy 2 items, save extra 5%'],\n",
       " ['Echor',\n",
       "  \"Men's Casual sneaker shoes running shoes walking shoes ...\",\n",
       "  '₹598₹1,49960% off',\n",
       "  'Free delivery'],\n",
       " ['D-SNEAKERZ',\n",
       "  \"Casual , Partywear Sneakers Shoes For Men's And Boys Wh...\",\n",
       "  '₹299₹65954% off',\n",
       "  'Free delivery'],\n",
       " ['Kraasa',\n",
       "  'Series 7 Sneakers For Men',\n",
       "  '₹479₹99952% off',\n",
       "  'Delivery by 2 PM, Tomorrow',\n",
       "  'Deal of the Day'],\n",
       " ['Kraasa',\n",
       "  'Shark-41 Sneakers For Men',\n",
       "  '₹479₹99952% off',\n",
       "  'Delivery by 2 PM, Tomorrow',\n",
       "  'Deal of the Day'],\n",
       " ['Roadster',\n",
       "  'Men Blue Solid Sneakers Sneakers For Men',\n",
       "  '₹1,299₹2,79953% off',\n",
       "  'Free delivery'],\n",
       " ['PUMA',\n",
       "  'Puma Rebound LayUp SL Sneakers For Men',\n",
       "  '₹2,667₹4,99946% off',\n",
       "  'Delivery by 2 PM, Tomorrow'],\n",
       " ['Robbie jones',\n",
       "  'Casual Sneakers White Shoes For Men Sneakers For Men',\n",
       "  '₹499₹99950% off',\n",
       "  'Free delivery'],\n",
       " ['ASTEROID',\n",
       "  \"Original Luxury Branded Fashionable Men's Casual Walkin...\",\n",
       "  '₹499₹1,99975% off',\n",
       "  'Free delivery'],\n",
       " ['MOHLIYE', 'Sneakers For Men', '₹299₹69957% off', 'Free delivery'],\n",
       " ['Robbie jones', 'Sneakers For Men', '₹499₹99950% off', 'Free delivery'],\n",
       " ['BIRDE',\n",
       "  'Stylish Comfortable Lightweight, Breathable Walking Sho...',\n",
       "  '₹356₹99964% off',\n",
       "  'Free delivery',\n",
       "  'Deal of the Day'],\n",
       " ['KWIK FIT',\n",
       "  'Kwik FIT casual sneaker shoes and partywear shoes Casua...',\n",
       "  '₹397₹1,99980% off',\n",
       "  'Free delivery'],\n",
       " ['Chevit',\n",
       "  '494 Perfect Sports Shoes for Running Training Hikking &...',\n",
       "  '₹299₹99970% off',\n",
       "  'Free delivery'],\n",
       " ['Robbie jones', 'Sneakers For Men', '₹499₹99950% off', 'Free delivery'],\n",
       " ['AKIMBO',\n",
       "  'A-SHOES-205 Sneakers For Men',\n",
       "  '₹549₹99945% off',\n",
       "  'Free delivery'],\n",
       " ['BIRDE',\n",
       "  'Stylish Comfortable Lightweight, Breathable Casual Walk...',\n",
       "  '₹299₹99970% off',\n",
       "  'Free delivery',\n",
       "  'Deal of the Day'],\n",
       " ['KNIGHTWING',\n",
       "  'Casual daily use shoes for men Sneakers For Men',\n",
       "  '₹699₹1,79961% off',\n",
       "  'Free delivery'],\n",
       " ['SCATCHITE',\n",
       "  'Sneakers Sneakers For Men',\n",
       "  '₹419₹99958% off',\n",
       "  'Free delivery'],\n",
       " ['U.S. POLO ASSN.',\n",
       "  'PANAL Sneakers For Men',\n",
       "  '₹1,745₹2,99941% off',\n",
       "  'Free delivery'],\n",
       " ['bluemaker',\n",
       "  'casual for men Sneakers For Men',\n",
       "  '₹599₹99940% off',\n",
       "  'Free delivery'],\n",
       " ['EZDEZARIO',\n",
       "  'Casual Sneakers Shoes For Men Sneakers For Men Sneakers...',\n",
       "  '₹399₹99960% off',\n",
       "  'Free delivery'],\n",
       " ['Numenzo',\n",
       "  '411 Casual Sneakers For Men',\n",
       "  '₹402₹1,99979% off',\n",
       "  'Free delivery',\n",
       "  'Lowest Price in 15 days'],\n",
       " ['aadi',\n",
       "  'Sneakers For Men',\n",
       "  '₹299₹99970% off',\n",
       "  'Free delivery',\n",
       "  'Buy 2 items, save extra 5%'],\n",
       " ['BRUTON',\n",
       "  'Lattest Sneakers Shoe Sneakers For Men',\n",
       "  '₹269₹1,29979% off',\n",
       "  'Free delivery',\n",
       "  'Lowest price since launch'],\n",
       " ['Arivo', 'Sneakers For Men', '₹599₹1,99970% off', 'Free delivery'],\n",
       " ['corsac',\n",
       "  'STYLISH MENS BLACK SNEAKER Sneakers For Men',\n",
       "  '₹499₹1,49966% off',\n",
       "  'Free delivery'],\n",
       " ['CLYMB',\n",
       "  'Sneakers For Men',\n",
       "  '₹519₹1,49965% off',\n",
       "  'Free delivery',\n",
       "  'Lowest price since launch'],\n",
       " ['Kzaara', 'Sneakers For Men', '₹254₹99974% off', 'Free delivery'],\n",
       " ['ZF - ALFIYA', 'Sneakers For Men', '₹439₹99956% off', 'Free delivery'],\n",
       " ['HOTSTYLE',\n",
       "  'Sneakers For Men',\n",
       "  '₹245₹99875% off',\n",
       "  'Free delivery',\n",
       "  'Deal of the Day'],\n",
       " [\"LEVI'S\",\n",
       "  \"Levi's Men's Henry Sneakers Sneakers For Men\",\n",
       "  '₹1,531₹2,79945% off',\n",
       "  'Delivery by 2 PM, Tomorrow'],\n",
       " ['Kraasa',\n",
       "  'Casuals, Canvas, Partywear Sneakers For Men',\n",
       "  '₹479₹99952% off',\n",
       "  'Free delivery',\n",
       "  'Deal of the Day'],\n",
       " ['EZDEZARIO',\n",
       "  'Casual Sneakers Shoes For Men Sneakers For Men Sneakers...',\n",
       "  '₹399₹99960% off',\n",
       "  'Free delivery'],\n",
       " ['Roadster', 'Sneakers For Men', '₹1,119₹3,19965% off', 'Free delivery'],\n",
       " ['KNIGHTWING',\n",
       "  'Stylish Comfortable Sneakers For Men Sneakers For Men',\n",
       "  '₹699₹1,79961% off',\n",
       "  'Free delivery'],\n",
       " ['U.S. POLO ASSN.',\n",
       "  'Sneakers For Men',\n",
       "  '₹1,952₹2,99934% off',\n",
       "  'Free delivery'],\n",
       " ['Nilatin', 'Sneakers For Men', '₹599₹2,99980% off', 'Free delivery'],\n",
       " ['ADIDAS',\n",
       "  'STREET ICON M Sneakers For Men',\n",
       "  '₹2,350₹3,59934% off',\n",
       "  'Delivery by 2 PM, Tomorrow'],\n",
       " ['BRUTON',\n",
       "  'Sneaker Sneakers For Men',\n",
       "  '₹281₹1,29978% off',\n",
       "  'Free delivery',\n",
       "  'Deal of the Day'],\n",
       " ['Airland',\n",
       "  '1259 smart black lace-ups sneakers for men Sneakers For...',\n",
       "  '₹210₹49957% off',\n",
       "  'Free delivery'],\n",
       " [\"LEVI'S\",\n",
       "  \"Levi's Men's Lancer Sneakers Sneakers For Men\",\n",
       "  '₹1,439₹3,19955% off',\n",
       "  'Free delivery'],\n",
       " ['Layasa', 'Sneakers For Men', '₹399₹99960% off', 'Free delivery'],\n",
       " ['ZF Klub', 'Sneakers For Men', '₹349₹99965% off', 'Free delivery'],\n",
       " ['U.S. POLO ASSN.',\n",
       "  'Sneakers For Men',\n",
       "  '₹1,745₹2,99941% off',\n",
       "  'Delivery by 2 PM, Tomorrow'],\n",
       " ['RODDICK SHOES',\n",
       "  'Fashion Outdoor Canvas Casual Light Weight Lace-up Even...',\n",
       "  '₹485₹99951% off',\n",
       "  'Free delivery'],\n",
       " [\"LEVI'S\",\n",
       "  \"Levi's Men's Henry Sneakers Sneakers For Men\",\n",
       "  '₹1,531₹2,79945% off',\n",
       "  'Delivery by 2 PM, Tomorrow'],\n",
       " ['Echor',\n",
       "  \"Men's Sneakers Fashion Lightweight Running Shoes Tennis...\",\n",
       "  '₹485₹99951% off',\n",
       "  'Free delivery',\n",
       "  'Deal of the Day'],\n",
       " ['U.S. POLO ASSN.',\n",
       "  'BRENTT 2.0 Sneakers For Men',\n",
       "  '₹2,049₹3,39939% off',\n",
       "  'Delivery by 2 PM, Tomorrow'],\n",
       " ['ROCKFIELD', 'Sneakers For Men', '₹629₹1,59960% off', 'Free delivery'],\n",
       " ['PUMA',\n",
       "  'x KL Seattle Sneakers For Men',\n",
       "  '₹2,981₹4,49933% off',\n",
       "  'Delivery by 2 PM, Tomorrow'],\n",
       " ['ASTEROID',\n",
       "  \"Original Luxury Branded Fashionable Men's Casual Walkin...\",\n",
       "  '₹499₹99950% off',\n",
       "  'Free delivery'],\n",
       " ['PROVOGUE',\n",
       "  'Sneakers For Men',\n",
       "  '₹579₹1,29955% off',\n",
       "  'Free delivery',\n",
       "  'Buy 2 items, save extra 5%'],\n",
       " ['BRUTON',\n",
       "  'Men Combo Pack of 2 Casual & Sneaker Shoes (Loafer Shoe...',\n",
       "  '₹366₹2,40084% off',\n",
       "  'Free delivery',\n",
       "  'Deal of the Day'],\n",
       " ['Echor',\n",
       "  \"Men's Sneakers Fashion Lightweight Running Shoes Tennis...\",\n",
       "  '₹539₹99946% off',\n",
       "  'Free delivery'],\n",
       " ['BRUTON',\n",
       "  'Combo Pack Of 2 Latest Stylish Casual Shoes for Men Lac...',\n",
       "  '₹499₹2,49980% off',\n",
       "  'Free delivery',\n",
       "  'Deal of the Day'],\n",
       " ['Robbie jones',\n",
       "  'Casual Sneakers Shoes For Men And Boys Sneakers For Men',\n",
       "  '₹499₹99950% off',\n",
       "  'Free delivery'],\n",
       " ['Chevit',\n",
       "  'Unique & Perfect Collection Combo Pack of 02 Shoes for ...',\n",
       "  '₹474₹1,49868% off',\n",
       "  'Free delivery',\n",
       "  'Deal of the Day'],\n",
       " ['KNIGHT WALKERS',\n",
       "  'SS1100 Sneakers For Men',\n",
       "  '₹699₹1,99965% off',\n",
       "  'Free delivery'],\n",
       " ['NAUTICA',\n",
       "  'Sneakers For Men',\n",
       "  '₹1,569₹4,49965% off',\n",
       "  'Delivery by 2 PM, Tomorrow'],\n",
       " ['WOODLAND',\n",
       "  'Sneakers For Men',\n",
       "  '₹1,746₹2,49530% off',\n",
       "  'Free delivery',\n",
       "  'Buy 2 items, save extra 5%'],\n",
       " ['KWIK FIT',\n",
       "  'Kwik FIT casual sneaker shoes and partywear shoes Casua...',\n",
       "  '₹397₹1,99980% off',\n",
       "  'Free delivery'],\n",
       " ['BRUTON',\n",
       "  'Combo Pack Of 4 Casual Shoes Loafer Shoes Sneakers For ...',\n",
       "  '₹499₹3,49985% off',\n",
       "  'Free delivery',\n",
       "  'Deal of the Day'],\n",
       " ['Robbie jones', 'Sneakers For Men', '₹499₹99950% off', 'Free delivery'],\n",
       " [\"LEVI'S\",\n",
       "  'INDI BOOT High Tops For Men',\n",
       "  '₹1,623₹3,49953% off',\n",
       "  'Free delivery',\n",
       "  'Buy 2 items, save extra 5%'],\n",
       " ['Xylus',\n",
       "  'Training & Gym & Walking shoes Sneakers For Men',\n",
       "  '₹399₹99960% off',\n",
       "  'Free delivery',\n",
       "  'Deal of the Day'],\n",
       " ['ONECENTRE', 'STR2 Sneakers For Men', '₹300₹62552% off', 'Free delivery'],\n",
       " ['KANEGGYE',\n",
       "  'Sneakers For Men',\n",
       "  '₹319₹49936% off',\n",
       "  'Free delivery',\n",
       "  'Lowest Price in 15 days'],\n",
       " ['PUMA',\n",
       "  'BMW MMS Electron E Pro Sneakers For Men',\n",
       "  '₹4,346₹6,49933% off',\n",
       "  'Free delivery'],\n",
       " ['Cresswell',\n",
       "  'Black-Multicolor Casual Sport Training/Running Sneakers...',\n",
       "  '₹1,499₹3,49957% off',\n",
       "  'Free delivery'],\n",
       " [\"LEVI'S\",\n",
       "  \"Levi's Men's Hernandez Sneakers Sneakers For Men\",\n",
       "  '₹1,799₹3,99955% off',\n",
       "  'Free delivery'],\n",
       " ['bacca bucci', 'Sneakers For Men', '₹1,399₹2,99953% off', 'Free delivery'],\n",
       " ['bacca bucci',\n",
       "  \"Men's Ultraforce Mid-top Athletic-Inspired Retro Fashio...\",\n",
       "  '₹1,199₹2,49952% off',\n",
       "  'Free delivery'],\n",
       " ['STRANGER BROTHERS',\n",
       "  'STRANGER BROTHERS Casual Shoes White Sneakers White Sho...',\n",
       "  '₹449₹99955% off',\n",
       "  'Free delivery'],\n",
       " ['kardam&sons',\n",
       "  'KS-01 Canvas Casual Partywear Outdoor Shoes For Boys Sn...',\n",
       "  '₹399₹1,99980% off'],\n",
       " [\"LEVI'S\",\n",
       "  'BOLTON NEW Sneakers For Men',\n",
       "  '₹1,657₹2,99944% off',\n",
       "  'Free delivery',\n",
       "  'Buy 2 items, save extra 5%'],\n",
       " ['Brainer',\n",
       "  'Sneakers For Men',\n",
       "  '₹379₹1,29970% off',\n",
       "  'Free delivery',\n",
       "  'Deal of the Day'],\n",
       " ['Ardeo',\n",
       "  'A STAR BLACK SNEAKERS FOR MAN Sneakers For Men',\n",
       "  '₹548₹2,19975% off'],\n",
       " ['Chevit',\n",
       "  'Speed Set of 5 Pairs Sneakers Outdoors Casuals for Men ...',\n",
       "  '₹719₹2,49571% off',\n",
       "  'Free delivery',\n",
       "  'Deal of the Day'],\n",
       " ['SPARX', 'SM-322 Sneakers For Men', '₹882₹1,04915% off', 'Free delivery'],\n",
       " ['asics',\n",
       "  'STORMER LS Sneakers For Men',\n",
       "  '₹2,558₹3,99936% off',\n",
       "  'Free delivery'],\n",
       " ['KNIGHT WALKERS', 'Sneakers For Men', '₹648₹1,49956% off', 'Free delivery'],\n",
       " ['Old Skool',\n",
       "  'Black & Blue Casual Sneakers For Men',\n",
       "  '₹1,690₹3,99557% off',\n",
       "  'Free delivery'],\n",
       " ['FLYING MACHINE',\n",
       "  'Sneakers For Men',\n",
       "  '₹699₹2,79975% off',\n",
       "  'Free delivery',\n",
       "  'Buy 2 items, save extra 5%'],\n",
       " ['PUMA',\n",
       "  'x KL Jack Sneakers For Men',\n",
       "  '₹2,029₹3,99949% off',\n",
       "  'Free delivery'],\n",
       " ['Zixer',\n",
       "  \"Men's Streetwear Pro Style High Top Platform Fashion Sn...\",\n",
       "  '₹532₹1,99973% off'],\n",
       " ['Deals4you',\n",
       "  'Sneakers For Men',\n",
       "  '₹404₹1,49973% off',\n",
       "  'Free delivery',\n",
       "  'Deal of the Day'],\n",
       " ['U.S. POLO ASSN.',\n",
       "  'Sneakers For Men',\n",
       "  '₹1,500₹2,99949% off',\n",
       "  'Free delivery'],\n",
       " ['HONEY', 'Sneakers For Men', '₹399₹99960% off'],\n",
       " ['aadi',\n",
       "  'Mesh | Ultralightweight | Comfortable | Breathable Walk...',\n",
       "  '₹439₹1,99978% off',\n",
       "  'Free delivery',\n",
       "  'Buy 2 items, save extra 5%'],\n",
       " ['NAUTICA', 'Sneakers For Men', '₹1,585₹5,29970% off', 'Free delivery'],\n",
       " ['Labbin', 'Sneakers For Men', '₹499₹99950% off', 'Free delivery'],\n",
       " ['NIKE',\n",
       "  'Ebernon Low Sneakers For Men',\n",
       "  '₹3,357₹4,79529% off',\n",
       "  'Free delivery'],\n",
       " ['BRUTON',\n",
       "  'Combo Pack Of 3 Latest Casual Shoes Sneakers For Men',\n",
       "  '₹499₹2,99983% off',\n",
       "  'Free delivery',\n",
       "  'Deal of the Day'],\n",
       " ['HRX by Hrithik Roshan',\n",
       "  'Sneakers For Men',\n",
       "  '₹1,539₹4,79967% off',\n",
       "  'Free delivery',\n",
       "  'Buy 2 items, save extra 5%'],\n",
       " ['Bantox', 'Sneakers For Men', '₹449₹99955% off', 'Free delivery'],\n",
       " ['BIRDE',\n",
       "  'Stylish and Trendy New Design Lightweight,Casual shoes ...',\n",
       "  '₹356₹49928% off',\n",
       "  'Free delivery',\n",
       "  'Deal of the Day'],\n",
       " ['BRUTON',\n",
       "  'Perfect & Affordable Combo Pack of 02 Pairs Sneakers Ou...',\n",
       "  '₹416₹2,40082% off',\n",
       "  'Free delivery',\n",
       "  'Lowest Price in 15 days'],\n",
       " ['Chevit', 'Sneakers For Men', '₹259₹79967% off'],\n",
       " ['Bonexy', 'Sneakers For Men', '₹399₹99960% off', 'Free delivery'],\n",
       " ['PUMA',\n",
       "  'X-RAY Square Ramble Sneakers For Men',\n",
       "  '₹4,607₹7,99942% off',\n",
       "  'Free delivery'],\n",
       " ['CAMPUS',\n",
       "  'KING PRO Sneakers For Men',\n",
       "  '₹785₹1,09928% off',\n",
       "  'Free delivery',\n",
       "  'Buy 2 items, save extra 5%'],\n",
       " ['PUMA', 'IBERO II Sneakers For Men', '₹3,918₹5,99934% off', 'Free delivery'],\n",
       " ['Shoes Icon',\n",
       "  'Stylish White Casual Sneakers | White Party Wear Sneake...',\n",
       "  '₹479₹99952% off',\n",
       "  'Free delivery'],\n",
       " ['REEBOK CLASSICS',\n",
       "  'REEBOK ROYAL COMPLETE3LOW Sneakers For Men',\n",
       "  '₹2,998₹4,99940% off',\n",
       "  'Free delivery',\n",
       "  'Buy 1, Get 1 Free'],\n",
       " ['HIGHLANDER', 'Sneakers For Men', '₹796₹1,99060% off', 'Free delivery'],\n",
       " ['Robbie jones',\n",
       "  'Casual Sneakers Canvas Shoes For Men Sneakers For Men',\n",
       "  '₹549₹99945% off',\n",
       "  'Free delivery'],\n",
       " [\"LEVI'S\",\n",
       "  'BAMAKO Sneakers For Men',\n",
       "  '₹1,551₹2,99948% off',\n",
       "  'Free delivery',\n",
       "  'Buy 2 items, save extra 5%'],\n",
       " ['asics',\n",
       "  'LYTE CLASSIC Sneakers For Men',\n",
       "  '₹3,562₹6,49945% off',\n",
       "  'Free delivery'],\n",
       " ['ROCKFIELD', 'Sneakers For Men', '₹449₹99955% off', 'Free delivery'],\n",
       " ['LEE COOPER',\n",
       "  'Sneakers For Men',\n",
       "  '₹2,219₹3,69940% off',\n",
       "  'Free delivery',\n",
       "  'Buy 1, Get 1 Free'],\n",
       " ['NIKE',\n",
       "  \"Nike Court Legacy Canvas Men's Shoes Sneakers For Men\",\n",
       "  '₹3,995',\n",
       "  'Free delivery'],\n",
       " ['NIKE',\n",
       "  'Squash-Type Sneakers For Men',\n",
       "  '₹4,392₹6,99537% off',\n",
       "  'Free delivery'],\n",
       " ['Bacan', 'Sneakers For Men', '₹526₹99947% off', 'Free delivery'],\n",
       " ['WROGN',\n",
       "  'Athleisure Sneakers For Men',\n",
       "  '₹1,221₹2,79956% off',\n",
       "  'Free delivery',\n",
       "  'Buy 2 items, save extra 5%'],\n",
       " ['Zsyto',\n",
       "  'Sneakers For Men',\n",
       "  '₹498₹1,29961% off',\n",
       "  'Free delivery',\n",
       "  'Buy 2 items, save extra 5%'],\n",
       " ['bacca bucci', 'Sneakers For Men', '₹1,683₹3,49951% off', 'Free delivery'],\n",
       " ['bluemaker',\n",
       "  'Comfortable Causal Shoes For Men Sneakers For Men',\n",
       "  '₹599₹99940% off',\n",
       "  'Free delivery'],\n",
       " ['Chevit',\n",
       "  'CH-527 Trendy Star Perfect Casuals Sneakers For Men',\n",
       "  '₹310₹79961% off',\n",
       "  'Free delivery',\n",
       "  'Deal of the Day'],\n",
       " ['Afreet', 'Sneakers For Men', '₹499₹99950% off', 'Free delivery'],\n",
       " ['FILA', 'Sneakers For Men', '₹2,299', 'Free delivery'],\n",
       " ['aadi',\n",
       "  'Sneakers For Men',\n",
       "  '₹299₹99970% off',\n",
       "  'Free delivery',\n",
       "  'Buy 2 items, save extra 5%'],\n",
       " ['Bonexy', 'Sneakers For Men', '₹399₹99960% off', 'Free delivery'],\n",
       " ['Bantox', 'Sneakers For Men', '₹449₹99955% off', 'Free delivery'],\n",
       " ['DUCATI',\n",
       "  'Sneakers For Men',\n",
       "  '₹1,479₹3,59958% off',\n",
       "  'Free delivery',\n",
       "  'Buy 2 items, save extra 5%'],\n",
       " ['Shoes Bank',\n",
       "  \"White Sneaker For Men's/Boy's Sneakers For Men\",\n",
       "  '₹298₹99970% off',\n",
       "  'Free delivery',\n",
       "  'Deal of the Day'],\n",
       " ['Nilatin', 'Sneakers For Men', '₹599₹2,99980% off', 'Free delivery'],\n",
       " ['Absolutee shoes', 'Sneakers For Men', '₹699₹1,49953% off', 'Free delivery'],\n",
       " ['Echor',\n",
       "  \"Echor Men's Sneakers Fashion Lightweight Running Shoes ...\",\n",
       "  '₹512₹1,49965% off'],\n",
       " ['bluemaker',\n",
       "  'casual for men Sneakers For Men',\n",
       "  '₹599₹99940% off',\n",
       "  'Free delivery'],\n",
       " ['REEBOK CLASSICS',\n",
       "  'REEBOK ROYAL COMPLETE3LOW Sneakers For Men',\n",
       "  '₹2,998₹4,99940% off',\n",
       "  'Free delivery',\n",
       "  'Buy 1, Get 1 Free'],\n",
       " ['SPARX', '9019 Sneakers For Men', '₹1,189₹1,39915% off', 'Free delivery'],\n",
       " ['PUMA', 'X-Ray Sneakers For Men', '₹3,727₹6,99946% off', 'Free delivery'],\n",
       " ['aadi',\n",
       "  'Sneakers For Men',\n",
       "  '₹399₹1,99980% off',\n",
       "  'Free delivery',\n",
       "  'Buy 2 items, save extra 5%'],\n",
       " ['PUMA',\n",
       "  'Rebound Future Cage Sneakers For Men',\n",
       "  '₹4,092₹6,49937% off',\n",
       "  'Free delivery'],\n",
       " ['Chevit', 'Blue Casual Shoes Sneakers For Men', '₹259₹49948% off'],\n",
       " ['PUMA',\n",
       "  'Style Rider BP Sneakers For Men',\n",
       "  '₹3,739₹8,99958% off',\n",
       "  'Free delivery',\n",
       "  'Deal of the Day'],\n",
       " ['FASHION VICTIM',\n",
       "  'Sneakers For Men',\n",
       "  '₹674₹3,49980% off',\n",
       "  'Free delivery',\n",
       "  'Deal of the Day'],\n",
       " [\"LEVI'S\",\n",
       "  \"Levi's Men's Courage Sneakers Sneakers For Men\",\n",
       "  '₹2,529₹4,59945% off',\n",
       "  'Free delivery'],\n",
       " ['NAUTICA',\n",
       "  'Nautica Men Navy Blue Solid Sneakers Sneakers For Men',\n",
       "  '₹1,324₹5,29975% off',\n",
       "  'Free delivery'],\n",
       " ['SPARX',\n",
       "  'Subtle Grace Canvas Shoes For Men',\n",
       "  '₹882₹1,04915% off',\n",
       "  'Free delivery'],\n",
       " ['EZDEZARIO',\n",
       "  'Fashion Outdoor Canvas Casual Light Weight Lace-up Even...',\n",
       "  '₹399₹99960% off',\n",
       "  'Free delivery']]"
      ]
     },
     "execution_count": 95,
     "metadata": {},
     "output_type": "execute_result"
    }
   ],
   "source": [
    "desc1"
   ]
  },
  {
   "cell_type": "code",
   "execution_count": 96,
   "id": "8e7f2272",
   "metadata": {},
   "outputs": [],
   "source": [
    "brand = [i[0] for i in desc1]"
   ]
  },
  {
   "cell_type": "code",
   "execution_count": 97,
   "id": "650989a0",
   "metadata": {},
   "outputs": [],
   "source": [
    "description = [i[1] for i in desc1]"
   ]
  },
  {
   "cell_type": "code",
   "execution_count": 98,
   "id": "77b83583",
   "metadata": {},
   "outputs": [],
   "source": [
    "price = [i[2] for i in desc1]"
   ]
  },
  {
   "cell_type": "code",
   "execution_count": 99,
   "id": "9fc62f14",
   "metadata": {},
   "outputs": [],
   "source": [
    "prod_price = [i.split('₹', 2)[1] for i in price]"
   ]
  },
  {
   "cell_type": "code",
   "execution_count": 105,
   "id": "03211219",
   "metadata": {},
   "outputs": [
    {
     "name": "stdout",
     "output_type": "stream",
     "text": [
      "160 160 160\n"
     ]
    }
   ],
   "source": [
    "print(len(brand), len(description), len(prod_price))\n"
   ]
  },
  {
   "cell_type": "code",
   "execution_count": 106,
   "id": "4c6117a4",
   "metadata": {},
   "outputs": [
    {
     "data": {
      "text/html": [
       "<div>\n",
       "<style scoped>\n",
       "    .dataframe tbody tr th:only-of-type {\n",
       "        vertical-align: middle;\n",
       "    }\n",
       "\n",
       "    .dataframe tbody tr th {\n",
       "        vertical-align: top;\n",
       "    }\n",
       "\n",
       "    .dataframe thead th {\n",
       "        text-align: right;\n",
       "    }\n",
       "</style>\n",
       "<table border=\"1\" class=\"dataframe\">\n",
       "  <thead>\n",
       "    <tr style=\"text-align: right;\">\n",
       "      <th></th>\n",
       "      <th>Brand</th>\n",
       "      <th>Description</th>\n",
       "      <th>Price</th>\n",
       "    </tr>\n",
       "  </thead>\n",
       "  <tbody>\n",
       "    <tr>\n",
       "      <th>0</th>\n",
       "      <td>Hot &amp; Knot</td>\n",
       "      <td>High Top Casual Party Wear Boot Stylish Sneake...</td>\n",
       "      <td>559</td>\n",
       "    </tr>\n",
       "    <tr>\n",
       "      <th>1</th>\n",
       "      <td>RODDICK SHOES</td>\n",
       "      <td>Fashion Outdoor Canvas Casual Light Weight Lac...</td>\n",
       "      <td>485</td>\n",
       "    </tr>\n",
       "    <tr>\n",
       "      <th>2</th>\n",
       "      <td>Magnolia</td>\n",
       "      <td>Sneakers For Men</td>\n",
       "      <td>374</td>\n",
       "    </tr>\n",
       "    <tr>\n",
       "      <th>3</th>\n",
       "      <td>BRUTON</td>\n",
       "      <td>Lightweight Pack Of 1 Trendy Sneakers Sneakers...</td>\n",
       "      <td>188</td>\n",
       "    </tr>\n",
       "    <tr>\n",
       "      <th>4</th>\n",
       "      <td>BIRDE</td>\n",
       "      <td>Stylish Comfortable Lightweight, Breathable Wa...</td>\n",
       "      <td>314</td>\n",
       "    </tr>\n",
       "    <tr>\n",
       "      <th>...</th>\n",
       "      <td>...</td>\n",
       "      <td>...</td>\n",
       "      <td>...</td>\n",
       "    </tr>\n",
       "    <tr>\n",
       "      <th>95</th>\n",
       "      <td>Ardeo</td>\n",
       "      <td>A STAR BLACK SNEAKERS FOR MAN Sneakers For Men</td>\n",
       "      <td>548</td>\n",
       "    </tr>\n",
       "    <tr>\n",
       "      <th>96</th>\n",
       "      <td>Chevit</td>\n",
       "      <td>Speed Set of 5 Pairs Sneakers Outdoors Casuals...</td>\n",
       "      <td>719</td>\n",
       "    </tr>\n",
       "    <tr>\n",
       "      <th>97</th>\n",
       "      <td>SPARX</td>\n",
       "      <td>SM-322 Sneakers For Men</td>\n",
       "      <td>882</td>\n",
       "    </tr>\n",
       "    <tr>\n",
       "      <th>98</th>\n",
       "      <td>asics</td>\n",
       "      <td>STORMER LS Sneakers For Men</td>\n",
       "      <td>2,558</td>\n",
       "    </tr>\n",
       "    <tr>\n",
       "      <th>99</th>\n",
       "      <td>KNIGHT WALKERS</td>\n",
       "      <td>Sneakers For Men</td>\n",
       "      <td>648</td>\n",
       "    </tr>\n",
       "  </tbody>\n",
       "</table>\n",
       "<p>100 rows × 3 columns</p>\n",
       "</div>"
      ],
      "text/plain": [
       "             Brand                                        Description  Price\n",
       "0       Hot & Knot  High Top Casual Party Wear Boot Stylish Sneake...    559\n",
       "1    RODDICK SHOES  Fashion Outdoor Canvas Casual Light Weight Lac...    485\n",
       "2         Magnolia                                   Sneakers For Men    374\n",
       "3           BRUTON  Lightweight Pack Of 1 Trendy Sneakers Sneakers...    188\n",
       "4            BIRDE  Stylish Comfortable Lightweight, Breathable Wa...    314\n",
       "..             ...                                                ...    ...\n",
       "95           Ardeo     A STAR BLACK SNEAKERS FOR MAN Sneakers For Men    548\n",
       "96          Chevit  Speed Set of 5 Pairs Sneakers Outdoors Casuals...    719\n",
       "97           SPARX                            SM-322 Sneakers For Men    882\n",
       "98           asics                        STORMER LS Sneakers For Men  2,558\n",
       "99  KNIGHT WALKERS                                   Sneakers For Men    648\n",
       "\n",
       "[100 rows x 3 columns]"
      ]
     },
     "execution_count": 106,
     "metadata": {},
     "output_type": "execute_result"
    }
   ],
   "source": [
    "Flipkart = pd.DataFrame()\n",
    "Flipkart['Brand'] = brand[:100]\n",
    "Flipkart['Description'] = description[:100]\n",
    "Flipkart['Price'] = prod_price[:100]\n",
    "Flipkart"
   ]
  },
  {
   "cell_type": "code",
   "execution_count": null,
   "id": "5bd8d325",
   "metadata": {},
   "outputs": [],
   "source": []
  },
  {
   "cell_type": "markdown",
   "id": "bd120d7f",
   "metadata": {},
   "source": [
    "# Q7: Go to the link - https://www.myntra.com/shoes\n",
    "Set Price filter to “Rs. 7149 to Rs. 14099 ” , Color filter to “Black”, as shown inthe below image. And then scrape First 100 shoes data you get. The data should include “Brand” of the shoes , Short Shoe description, price of the shoe as shown in the below image."
   ]
  },
  {
   "cell_type": "code",
   "execution_count": 138,
   "id": "10e9f81d",
   "metadata": {},
   "outputs": [],
   "source": [
    "driver = webdriver.Chrome('chromedriver.exe')\n",
    "driver.get('https://www.myntra.com/shoes')\n",
    "time.sleep(10)"
   ]
  },
  {
   "cell_type": "code",
   "execution_count": 143,
   "id": "8702431a",
   "metadata": {},
   "outputs": [],
   "source": [
    "price_selector = driver.find_element_by_xpath(\"/html/body/div[2]/div/div[1]/main/div[3]/div[1]/section/div/div[5]/ul/li[2]/label/div\")\n",
    "price_selector.click()"
   ]
  },
  {
   "cell_type": "code",
   "execution_count": 142,
   "id": "a36e165e",
   "metadata": {},
   "outputs": [],
   "source": [
    "color_selector = driver.find_element_by_xpath(\"/html/body/div[2]/div/div[1]/main/div[3]/div[1]/section/div/div[6]/ul/li[1]/label/div\")\n",
    "color_selector.click()"
   ]
  },
  {
   "cell_type": "code",
   "execution_count": 144,
   "id": "31a647b2",
   "metadata": {},
   "outputs": [
    {
     "name": "stdout",
     "output_type": "stream",
     "text": [
      "150\n"
     ]
    }
   ],
   "source": [
    "desc1 = []\n",
    "for counter in range(0,3):    \n",
    "    time.sleep(5)\n",
    "    if counter==0:\n",
    "        time.sleep(45) #sleep timer given as the element was not being loaded and throwing an exception of StaleElement\n",
    "    description = driver.find_elements_by_xpath(\"//div[@class='product-productMetaInfo']\")\n",
    "    for i in description:\n",
    "        desc1.append(i.text.split('\\n'))\n",
    "        counter=counter+1\n",
    "print(len(desc1))"
   ]
  },
  {
   "cell_type": "code",
   "execution_count": 145,
   "id": "f0bcde75",
   "metadata": {},
   "outputs": [],
   "source": [
    "brand = [i[0] for i in desc1]"
   ]
  },
  {
   "cell_type": "code",
   "execution_count": 146,
   "id": "7a3397c3",
   "metadata": {},
   "outputs": [],
   "source": [
    "description = [i[1] for i in desc1]"
   ]
  },
  {
   "cell_type": "code",
   "execution_count": 147,
   "id": "4a8ef167",
   "metadata": {},
   "outputs": [],
   "source": [
    "price = [i[2] for i in desc1]\n",
    "prod_price = [i.split('Rs.', 2)[1] for i in price]"
   ]
  },
  {
   "cell_type": "code",
   "execution_count": 148,
   "id": "0cc01360",
   "metadata": {},
   "outputs": [
    {
     "name": "stdout",
     "output_type": "stream",
     "text": [
      "150 150 150\n"
     ]
    }
   ],
   "source": [
    "print(len(brand), len(description), len(prod_price))"
   ]
  },
  {
   "cell_type": "code",
   "execution_count": 149,
   "id": "3d0c183d",
   "metadata": {},
   "outputs": [
    {
     "data": {
      "text/html": [
       "<div>\n",
       "<style scoped>\n",
       "    .dataframe tbody tr th:only-of-type {\n",
       "        vertical-align: middle;\n",
       "    }\n",
       "\n",
       "    .dataframe tbody tr th {\n",
       "        vertical-align: top;\n",
       "    }\n",
       "\n",
       "    .dataframe thead th {\n",
       "        text-align: right;\n",
       "    }\n",
       "</style>\n",
       "<table border=\"1\" class=\"dataframe\">\n",
       "  <thead>\n",
       "    <tr style=\"text-align: right;\">\n",
       "      <th></th>\n",
       "      <th>Brand</th>\n",
       "      <th>Description</th>\n",
       "      <th>Price</th>\n",
       "    </tr>\n",
       "  </thead>\n",
       "  <tbody>\n",
       "    <tr>\n",
       "      <th>0</th>\n",
       "      <td>Skechers</td>\n",
       "      <td>Men Go Walk 5 Walking Shoes</td>\n",
       "      <td>8499</td>\n",
       "    </tr>\n",
       "    <tr>\n",
       "      <th>1</th>\n",
       "      <td>Skechers</td>\n",
       "      <td>Men ENIGMA Running Shoes</td>\n",
       "      <td>7124</td>\n",
       "    </tr>\n",
       "    <tr>\n",
       "      <th>2</th>\n",
       "      <td>Skechers</td>\n",
       "      <td>Men Max Cushioning Running</td>\n",
       "      <td>8999</td>\n",
       "    </tr>\n",
       "    <tr>\n",
       "      <th>3</th>\n",
       "      <td>Puma</td>\n",
       "      <td>Men Running Shoes</td>\n",
       "      <td>9999</td>\n",
       "    </tr>\n",
       "    <tr>\n",
       "      <th>4</th>\n",
       "      <td>Nike</td>\n",
       "      <td>Men Zoom C Pro HC Tennis Shoes</td>\n",
       "      <td>7116</td>\n",
       "    </tr>\n",
       "    <tr>\n",
       "      <th>...</th>\n",
       "      <td>...</td>\n",
       "      <td>...</td>\n",
       "      <td>...</td>\n",
       "    </tr>\n",
       "    <tr>\n",
       "      <th>95</th>\n",
       "      <td>Geox</td>\n",
       "      <td>Men Textured Leather Driving Shoes</td>\n",
       "      <td>7693</td>\n",
       "    </tr>\n",
       "    <tr>\n",
       "      <th>96</th>\n",
       "      <td>Geox</td>\n",
       "      <td>Men Textured Leather Driving Shoes</td>\n",
       "      <td>6993</td>\n",
       "    </tr>\n",
       "    <tr>\n",
       "      <th>97</th>\n",
       "      <td>Geox</td>\n",
       "      <td>Men Textured Leather Slip-On Sneakers</td>\n",
       "      <td>8991</td>\n",
       "    </tr>\n",
       "    <tr>\n",
       "      <th>98</th>\n",
       "      <td>Geox</td>\n",
       "      <td>Men Textured Leather Driving Shoes</td>\n",
       "      <td>7693</td>\n",
       "    </tr>\n",
       "    <tr>\n",
       "      <th>99</th>\n",
       "      <td>EVADICT By Decathlon</td>\n",
       "      <td>Men Running Shoes</td>\n",
       "      <td>10289</td>\n",
       "    </tr>\n",
       "  </tbody>\n",
       "</table>\n",
       "<p>100 rows × 3 columns</p>\n",
       "</div>"
      ],
      "text/plain": [
       "                   Brand                            Description   Price\n",
       "0               Skechers            Men Go Walk 5 Walking Shoes    8499\n",
       "1               Skechers               Men ENIGMA Running Shoes    7124\n",
       "2               Skechers             Men Max Cushioning Running    8999\n",
       "3                   Puma                      Men Running Shoes    9999\n",
       "4                   Nike         Men Zoom C Pro HC Tennis Shoes    7116\n",
       "..                   ...                                    ...     ...\n",
       "95                  Geox     Men Textured Leather Driving Shoes    7693\n",
       "96                  Geox     Men Textured Leather Driving Shoes    6993\n",
       "97                  Geox  Men Textured Leather Slip-On Sneakers    8991\n",
       "98                  Geox     Men Textured Leather Driving Shoes    7693\n",
       "99  EVADICT By Decathlon                      Men Running Shoes   10289\n",
       "\n",
       "[100 rows x 3 columns]"
      ]
     },
     "execution_count": 149,
     "metadata": {},
     "output_type": "execute_result"
    }
   ],
   "source": [
    "Myntra = pd.DataFrame()\n",
    "Myntra['Brand'] = brand[:100]\n",
    "Myntra['Description'] = description[:100]\n",
    "Myntra['Price'] = prod_price[:100]\n",
    "Myntra"
   ]
  },
  {
   "cell_type": "code",
   "execution_count": null,
   "id": "789582e9",
   "metadata": {},
   "outputs": [],
   "source": []
  },
  {
   "cell_type": "markdown",
   "id": "27891a52",
   "metadata": {},
   "source": [
    "# Q8: Go to webpage https://www.amazon.in/\n",
    "Enter “Laptop” in the search field and then click the search icon. Then set CPU Type filter to “Intel Core i7” and “Intel Core i9”: After setting the filters scrape first 10 laptops data. You have to scrape 3 attributesfor each laptop:\n",
    "\n",
    "1. Title\n",
    "2. Ratings\n",
    "3. Price"
   ]
  },
  {
   "cell_type": "code",
   "execution_count": 279,
   "id": "f19168e3",
   "metadata": {},
   "outputs": [],
   "source": [
    "driver = webdriver.Chrome('chromedriver.exe')\n",
    "driver.get('https://www.amazon.in/')"
   ]
  },
  {
   "cell_type": "code",
   "execution_count": 280,
   "id": "5fe60b94",
   "metadata": {},
   "outputs": [],
   "source": [
    "search_field_designation = driver.find_element_by_xpath(\"/html/body/div[1]/header/div/div[1]/div[2]/div/form/div[2]/div[1]/input\")\n",
    "search_field_designation.send_keys(\"Laptop\")"
   ]
  },
  {
   "cell_type": "code",
   "execution_count": 281,
   "id": "59ab1751",
   "metadata": {},
   "outputs": [],
   "source": [
    "search_button = driver.find_element_by_xpath(\"/html/body/div[1]/header/div/div[1]/div[2]/div/form/div[3]/div/span/input\")\n",
    "search_button.click()"
   ]
  },
  {
   "cell_type": "code",
   "execution_count": 282,
   "id": "d58fd0f8",
   "metadata": {},
   "outputs": [],
   "source": [
    "cpu_selector = driver.find_element_by_xpath(\"/html/body/div[1]/div[2]/div[1]/div[2]/div/div[3]/span/div[1]/div/div/div[6]/ul[4]/li[13]/span/a/div/label/i\")\n",
    "cpu_selector.click()"
   ]
  },
  {
   "cell_type": "code",
   "execution_count": 283,
   "id": "f5a6765c",
   "metadata": {},
   "outputs": [],
   "source": [
    "titles = []\n",
    "ratings = []\n",
    "price = []"
   ]
  },
  {
   "cell_type": "code",
   "execution_count": 284,
   "id": "93fdc5d1",
   "metadata": {},
   "outputs": [
    {
     "data": {
      "text/plain": [
       "[<selenium.webdriver.remote.webelement.WebElement (session=\"453ad00ec05d4239b1a88b526cab859a\", element=\"42aa3146-6f31-44ac-ad7e-494b9222f9e2\")>,\n",
       " <selenium.webdriver.remote.webelement.WebElement (session=\"453ad00ec05d4239b1a88b526cab859a\", element=\"74600991-f0ff-4bd2-ae4e-212249e0fac1\")>,\n",
       " <selenium.webdriver.remote.webelement.WebElement (session=\"453ad00ec05d4239b1a88b526cab859a\", element=\"24568b07-4855-4ca7-bc94-ffa472f1d507\")>,\n",
       " <selenium.webdriver.remote.webelement.WebElement (session=\"453ad00ec05d4239b1a88b526cab859a\", element=\"856f187f-11da-4958-9088-ab6118898edb\")>]"
      ]
     },
     "execution_count": 284,
     "metadata": {},
     "output_type": "execute_result"
    }
   ],
   "source": [
    "titles_tag = driver.find_elements_by_xpath(\"//span[@class='a-size-medium a-color-base a-text-normal']\") #locating web element of title\n",
    "titles_tag[0:4] #using range to print only top 4 results"
   ]
  },
  {
   "cell_type": "code",
   "execution_count": 285,
   "id": "e35ef920",
   "metadata": {},
   "outputs": [
    {
     "data": {
      "text/plain": [
       "['ASUS TUF Gaming F15 (2021), 15.6\" (39.62 cms) FHD 144Hz, Intel Core i7-11600H 11th Gen, 4GB RTX 3050 Graphics, Gaming Laptop (16GB/512GB SSD/Windows 10/Office 2019/Gray/2.3 Kg), FX566HCB-HN299TS',\n",
       " 'ASUS VivoBook 14 (2021), 14-inch (35.56 cms) FHD, Intel Core i7-1065G7 10th Gen, Thin and Light Laptop (16GB/512GB SSD/Integrated Graphics/Office 2021/Windows 11/Silver/1.6 Kg), X415JA-EK701WS',\n",
       " 'Lenovo IdeaPad 5 Pro 11th Gen Intel Core i7 14 inches QHD IPS Thin and Light Laptop (16GB/512GB SSD/Iris Xe Graphics/Windows 11/Office 2021/Backlit/300Nits/Storm Grey/1.41Kg), 82L3006YIN',\n",
       " 'Samsung Galaxy Book2 Intel 12th Gen core i7 39.6cm (15.6\") FHD LED Thin & Light Laptop (16 GB/512 GB SSD/Windows 11/MS Office/Backlit Keyboard/Fingerprint Reader/Silver/1.55Kg), NP750XED-KC2IN']"
      ]
     },
     "execution_count": 285,
     "metadata": {},
     "output_type": "execute_result"
    }
   ],
   "source": [
    "for i in titles_tag:\n",
    "    title = i.text #iterating over web element of title\n",
    "    titles.append(title)\n",
    "titles[0:4]"
   ]
  },
  {
   "cell_type": "code",
   "execution_count": null,
   "id": "3dd2417f",
   "metadata": {},
   "outputs": [],
   "source": []
  },
  {
   "cell_type": "code",
   "execution_count": null,
   "id": "828ea904",
   "metadata": {},
   "outputs": [],
   "source": []
  },
  {
   "cell_type": "code",
   "execution_count": 286,
   "id": "20e2b801",
   "metadata": {},
   "outputs": [
    {
     "data": {
      "text/plain": [
       "[<selenium.webdriver.remote.webelement.WebElement (session=\"453ad00ec05d4239b1a88b526cab859a\", element=\"0f5e871b-e050-46bd-81c6-66a3d973bad2\")>,\n",
       " <selenium.webdriver.remote.webelement.WebElement (session=\"453ad00ec05d4239b1a88b526cab859a\", element=\"c3911677-7377-4405-8c10-341a890514a0\")>,\n",
       " <selenium.webdriver.remote.webelement.WebElement (session=\"453ad00ec05d4239b1a88b526cab859a\", element=\"2140201d-c21f-4d6f-b515-73ade66df1a8\")>,\n",
       " <selenium.webdriver.remote.webelement.WebElement (session=\"453ad00ec05d4239b1a88b526cab859a\", element=\"303c6bb4-bc84-4889-9d26-f62bb0bbaec9\")>]"
      ]
     },
     "execution_count": 286,
     "metadata": {},
     "output_type": "execute_result"
    }
   ],
   "source": [
    "price_tag = driver.find_elements_by_xpath(\"//span[@class='a-price']\") #locating web element of title\n",
    "price_tag[0:4] #using range to print only top 4 results"
   ]
  },
  {
   "cell_type": "code",
   "execution_count": 287,
   "id": "d341f1e3",
   "metadata": {},
   "outputs": [
    {
     "data": {
      "text/plain": [
       "['₹83,990', '₹57,490', '₹75,309', '₹79,990']"
      ]
     },
     "execution_count": 287,
     "metadata": {},
     "output_type": "execute_result"
    }
   ],
   "source": [
    "for i in price_tag:\n",
    "    cost = i.text #iterating over web element of title\n",
    "    price.append(cost)\n",
    "price[0:4]"
   ]
  },
  {
   "cell_type": "code",
   "execution_count": 288,
   "id": "0ceda16c",
   "metadata": {},
   "outputs": [
    {
     "name": "stdout",
     "output_type": "stream",
     "text": [
      "24 24\n"
     ]
    }
   ],
   "source": [
    "print(len(titles), len(price))"
   ]
  },
  {
   "cell_type": "code",
   "execution_count": 290,
   "id": "4bf85013",
   "metadata": {},
   "outputs": [
    {
     "data": {
      "text/html": [
       "<div>\n",
       "<style scoped>\n",
       "    .dataframe tbody tr th:only-of-type {\n",
       "        vertical-align: middle;\n",
       "    }\n",
       "\n",
       "    .dataframe tbody tr th {\n",
       "        vertical-align: top;\n",
       "    }\n",
       "\n",
       "    .dataframe thead th {\n",
       "        text-align: right;\n",
       "    }\n",
       "</style>\n",
       "<table border=\"1\" class=\"dataframe\">\n",
       "  <thead>\n",
       "    <tr style=\"text-align: right;\">\n",
       "      <th></th>\n",
       "      <th>Title</th>\n",
       "      <th>Price</th>\n",
       "    </tr>\n",
       "  </thead>\n",
       "  <tbody>\n",
       "    <tr>\n",
       "      <th>0</th>\n",
       "      <td>ASUS TUF Gaming F15 (2021), 15.6\" (39.62 cms) ...</td>\n",
       "      <td>₹83,990</td>\n",
       "    </tr>\n",
       "    <tr>\n",
       "      <th>1</th>\n",
       "      <td>ASUS VivoBook 14 (2021), 14-inch (35.56 cms) F...</td>\n",
       "      <td>₹57,490</td>\n",
       "    </tr>\n",
       "    <tr>\n",
       "      <th>2</th>\n",
       "      <td>Lenovo IdeaPad 5 Pro 11th Gen Intel Core i7 14...</td>\n",
       "      <td>₹75,309</td>\n",
       "    </tr>\n",
       "    <tr>\n",
       "      <th>3</th>\n",
       "      <td>Samsung Galaxy Book2 Intel 12th Gen core i7 39...</td>\n",
       "      <td>₹79,990</td>\n",
       "    </tr>\n",
       "    <tr>\n",
       "      <th>4</th>\n",
       "      <td>LG Gram 17 Intel Evo 11th Gen i7 Thin &amp; Light ...</td>\n",
       "      <td>₹88,490</td>\n",
       "    </tr>\n",
       "    <tr>\n",
       "      <th>5</th>\n",
       "      <td>HP Pavilion x360 11th Gen Intel Core i7 14 inc...</td>\n",
       "      <td>₹84,490</td>\n",
       "    </tr>\n",
       "    <tr>\n",
       "      <th>6</th>\n",
       "      <td>LG Gram 16 Intel Evo 11th Gen i7 Thin &amp; Light ...</td>\n",
       "      <td>₹86,490</td>\n",
       "    </tr>\n",
       "    <tr>\n",
       "      <th>7</th>\n",
       "      <td>ASUS Vivobook X515JA-EJ701WS Intel Core I7-106...</td>\n",
       "      <td>₹57,290</td>\n",
       "    </tr>\n",
       "    <tr>\n",
       "      <th>8</th>\n",
       "      <td>HP Pavilion 15 12th Gen Intel Core i7 16GB SDR...</td>\n",
       "      <td>₹89,009</td>\n",
       "    </tr>\n",
       "    <tr>\n",
       "      <th>9</th>\n",
       "      <td>Lenovo IdeaPad Flex 5 11th Gen Intel Core i7 1...</td>\n",
       "      <td>₹81,490</td>\n",
       "    </tr>\n",
       "  </tbody>\n",
       "</table>\n",
       "</div>"
      ],
      "text/plain": [
       "                                               Title    Price\n",
       "0  ASUS TUF Gaming F15 (2021), 15.6\" (39.62 cms) ...  ₹83,990\n",
       "1  ASUS VivoBook 14 (2021), 14-inch (35.56 cms) F...  ₹57,490\n",
       "2  Lenovo IdeaPad 5 Pro 11th Gen Intel Core i7 14...  ₹75,309\n",
       "3  Samsung Galaxy Book2 Intel 12th Gen core i7 39...  ₹79,990\n",
       "4  LG Gram 17 Intel Evo 11th Gen i7 Thin & Light ...  ₹88,490\n",
       "5  HP Pavilion x360 11th Gen Intel Core i7 14 inc...  ₹84,490\n",
       "6  LG Gram 16 Intel Evo 11th Gen i7 Thin & Light ...  ₹86,490\n",
       "7  ASUS Vivobook X515JA-EJ701WS Intel Core I7-106...  ₹57,290\n",
       "8  HP Pavilion 15 12th Gen Intel Core i7 16GB SDR...  ₹89,009\n",
       "9  Lenovo IdeaPad Flex 5 11th Gen Intel Core i7 1...  ₹81,490"
      ]
     },
     "execution_count": 290,
     "metadata": {},
     "output_type": "execute_result"
    }
   ],
   "source": [
    "laptop = pd.DataFrame()\n",
    "laptop['Title'] = titles[:10]\n",
    "laptop['Price'] = price[:10]\n",
    "laptop"
   ]
  },
  {
   "cell_type": "markdown",
   "id": "445eab61",
   "metadata": {},
   "source": [
    "\n",
    "# Q9: Write a python program to scrape data for first 10 job results for Data Scientist Designation in Noida location."
   ]
  },
  {
   "cell_type": "code",
   "execution_count": 203,
   "id": "0a88ada4",
   "metadata": {},
   "outputs": [],
   "source": [
    "driver = webdriver.Chrome('chromedriver.exe')\n",
    "driver.get('https://www.ambitionbox.com/')\n",
    "time.sleep(5)"
   ]
  },
  {
   "cell_type": "code",
   "execution_count": 204,
   "id": "79a20ee9",
   "metadata": {},
   "outputs": [],
   "source": [
    "jobs = driver.find_element_by_xpath(\"//a[@class='link jobs']\")\n",
    "jobs.click()"
   ]
  },
  {
   "cell_type": "code",
   "execution_count": 205,
   "id": "bd78f8b7",
   "metadata": {},
   "outputs": [],
   "source": [
    "designation = driver.find_element_by_xpath(\"//input[@class='input tt-input']\")\n",
    "designation.send_keys(\"Data Scientist\")"
   ]
  },
  {
   "cell_type": "code",
   "execution_count": 208,
   "id": "0a5fadd7",
   "metadata": {},
   "outputs": [],
   "source": [
    "search = driver.find_element_by_xpath(\"//button[@class='ab_btn search-btn round']\")\n",
    "search.click()"
   ]
  },
  {
   "cell_type": "code",
   "execution_count": 210,
   "id": "75f6e33c",
   "metadata": {},
   "outputs": [],
   "source": [
    "location = driver.find_element_by_xpath(\"//div[@title='Location']\")\n",
    "location.click()"
   ]
  },
  {
   "cell_type": "code",
   "execution_count": 211,
   "id": "5ed0c72d",
   "metadata": {},
   "outputs": [],
   "source": [
    "location_noida = driver.find_element_by_xpath(\"//input[@placeholder='Search locations']\")\n",
    "location_noida.send_keys(\"Noida\")"
   ]
  },
  {
   "cell_type": "code",
   "execution_count": 212,
   "id": "5a3e9780",
   "metadata": {},
   "outputs": [],
   "source": [
    "label_noida = driver.find_element_by_xpath(\"//input[@id='location_Noida']\")\n",
    "label_noida.click()"
   ]
  },
  {
   "cell_type": "code",
   "execution_count": null,
   "id": "fe15174b",
   "metadata": {},
   "outputs": [],
   "source": [
    "more_jobs = driver.find_element_by_xpath(\"//button[@class='ab_btn load-more-btn invert']\")\n",
    "more_jobs.click()"
   ]
  },
  {
   "cell_type": "code",
   "execution_count": 214,
   "id": "267f8ea3",
   "metadata": {},
   "outputs": [],
   "source": [
    "company = driver.find_elements_by_xpath(\"//p[@class='company body-medium']\")\n",
    "company_name = []\n",
    "for i in company:\n",
    "    company_name.append(i.text)"
   ]
  },
  {
   "cell_type": "code",
   "execution_count": 215,
   "id": "606d9c5b",
   "metadata": {},
   "outputs": [
    {
     "data": {
      "text/plain": [
       "['GENPACT India Private Limited',\n",
       " 'Optum Global Solutions (India) Private Limited',\n",
       " 'GENPACT India Private Limited',\n",
       " 'Hcl Technologies Limited',\n",
       " 'EXL Services.com ( I ) Pvt. Ltd.',\n",
       " 'Paytm',\n",
       " 'Om Software Internet Solutions Private Limited',\n",
       " 'Paytm',\n",
       " 'MOTHERSONSUMI INFOTECH & DESIGNS LIMITED',\n",
       " 'Ashkom Media India Private Limited']"
      ]
     },
     "execution_count": 215,
     "metadata": {},
     "output_type": "execute_result"
    }
   ],
   "source": [
    "company_name"
   ]
  },
  {
   "cell_type": "code",
   "execution_count": 216,
   "id": "17379145",
   "metadata": {},
   "outputs": [],
   "source": [
    "other_info = driver.find_elements_by_xpath(\"//div[@class='other-info']\")\n",
    "info = []\n",
    "for i in other_info:\n",
    "    info.append(i.text.split('\\n'))"
   ]
  },
  {
   "cell_type": "code",
   "execution_count": 217,
   "id": "e28b45d4",
   "metadata": {},
   "outputs": [],
   "source": [
    "days = [i[-1] for i in info]\n",
    "days_ago = [i.split('·', 2)[0] for i in days]"
   ]
  },
  {
   "cell_type": "code",
   "execution_count": 218,
   "id": "62ff00aa",
   "metadata": {},
   "outputs": [],
   "source": [
    "rate = driver.find_elements_by_xpath(\"//div[@class='rating-wrapper']\")\n"
   ]
  },
  {
   "cell_type": "code",
   "execution_count": 219,
   "id": "c48c8881",
   "metadata": {},
   "outputs": [
    {
     "data": {
      "text/plain": [
       "[['4.0', 'based on 19.2k Reviews'],\n",
       " ['4.0', '(19.2k Reviews)'],\n",
       " ['4.2', '(1.8k Reviews)'],\n",
       " ['4.0', '(19.2k Reviews)'],\n",
       " ['3.9', '(20.6k Reviews)'],\n",
       " ['3.9', '(4.8k Reviews)'],\n",
       " ['3.7', '(4.1k Reviews)'],\n",
       " ['4.5', '(44 Reviews)'],\n",
       " ['3.7', '(4.1k Reviews)'],\n",
       " ['3.3', '(280 Reviews)'],\n",
       " ['3.5', '(24 Reviews)']]"
      ]
     },
     "execution_count": 219,
     "metadata": {},
     "output_type": "execute_result"
    }
   ],
   "source": [
    "rating = []\n",
    "for i in rate:\n",
    "    rating.append(i.text.split('\\n'))\n",
    "rating[3:]"
   ]
  },
  {
   "cell_type": "code",
   "execution_count": 220,
   "id": "333dd79f",
   "metadata": {},
   "outputs": [],
   "source": [
    "ratings = [i[0] for i in rating]\n",
    "ratings = ratings[3:]"
   ]
  },
  {
   "cell_type": "code",
   "execution_count": 221,
   "id": "64877b3d",
   "metadata": {},
   "outputs": [
    {
     "data": {
      "text/html": [
       "<div>\n",
       "<style scoped>\n",
       "    .dataframe tbody tr th:only-of-type {\n",
       "        vertical-align: middle;\n",
       "    }\n",
       "\n",
       "    .dataframe tbody tr th {\n",
       "        vertical-align: top;\n",
       "    }\n",
       "\n",
       "    .dataframe thead th {\n",
       "        text-align: right;\n",
       "    }\n",
       "</style>\n",
       "<table border=\"1\" class=\"dataframe\">\n",
       "  <thead>\n",
       "    <tr style=\"text-align: right;\">\n",
       "      <th></th>\n",
       "      <th>Company Name</th>\n",
       "      <th>Days Ago</th>\n",
       "      <th>Ratings</th>\n",
       "    </tr>\n",
       "  </thead>\n",
       "  <tbody>\n",
       "    <tr>\n",
       "      <th>0</th>\n",
       "      <td>GENPACT India Private Limited</td>\n",
       "      <td>8d ago</td>\n",
       "      <td>4.0</td>\n",
       "    </tr>\n",
       "    <tr>\n",
       "      <th>1</th>\n",
       "      <td>Optum Global Solutions (India) Private Limited</td>\n",
       "      <td>16d ago</td>\n",
       "      <td>4.0</td>\n",
       "    </tr>\n",
       "    <tr>\n",
       "      <th>2</th>\n",
       "      <td>GENPACT India Private Limited</td>\n",
       "      <td>15d ago</td>\n",
       "      <td>4.2</td>\n",
       "    </tr>\n",
       "    <tr>\n",
       "      <th>3</th>\n",
       "      <td>Hcl Technologies Limited</td>\n",
       "      <td>18d ago</td>\n",
       "      <td>4.0</td>\n",
       "    </tr>\n",
       "    <tr>\n",
       "      <th>4</th>\n",
       "      <td>EXL Services.com ( I ) Pvt. Ltd.</td>\n",
       "      <td>29d ago</td>\n",
       "      <td>3.9</td>\n",
       "    </tr>\n",
       "    <tr>\n",
       "      <th>5</th>\n",
       "      <td>Paytm</td>\n",
       "      <td>11d ago</td>\n",
       "      <td>3.9</td>\n",
       "    </tr>\n",
       "    <tr>\n",
       "      <th>6</th>\n",
       "      <td>Om Software Internet Solutions Private Limited</td>\n",
       "      <td>19d ago</td>\n",
       "      <td>3.7</td>\n",
       "    </tr>\n",
       "    <tr>\n",
       "      <th>7</th>\n",
       "      <td>Paytm</td>\n",
       "      <td>29d ago</td>\n",
       "      <td>4.5</td>\n",
       "    </tr>\n",
       "    <tr>\n",
       "      <th>8</th>\n",
       "      <td>MOTHERSONSUMI INFOTECH &amp; DESIGNS LIMITED</td>\n",
       "      <td>16d ago</td>\n",
       "      <td>3.7</td>\n",
       "    </tr>\n",
       "    <tr>\n",
       "      <th>9</th>\n",
       "      <td>Ashkom Media India Private Limited</td>\n",
       "      <td>15d ago</td>\n",
       "      <td>3.3</td>\n",
       "    </tr>\n",
       "  </tbody>\n",
       "</table>\n",
       "</div>"
      ],
      "text/plain": [
       "                                     Company Name Days Ago Ratings\n",
       "0                   GENPACT India Private Limited   8d ago     4.0\n",
       "1  Optum Global Solutions (India) Private Limited  16d ago     4.0\n",
       "2                   GENPACT India Private Limited  15d ago     4.2\n",
       "3                        Hcl Technologies Limited  18d ago     4.0\n",
       "4                EXL Services.com ( I ) Pvt. Ltd.  29d ago     3.9\n",
       "5                                           Paytm  11d ago     3.9\n",
       "6  Om Software Internet Solutions Private Limited  19d ago     3.7\n",
       "7                                           Paytm  29d ago     4.5\n",
       "8        MOTHERSONSUMI INFOTECH & DESIGNS LIMITED  16d ago     3.7\n",
       "9              Ashkom Media India Private Limited  15d ago     3.3"
      ]
     },
     "execution_count": 221,
     "metadata": {},
     "output_type": "execute_result"
    }
   ],
   "source": [
    "ambtionbox = pd.DataFrame()\n",
    "ambtionbox['Company Name'] = company_name[:10]\n",
    "ambtionbox['Days Ago'] = days_ago[:10]\n",
    "ambtionbox['Ratings'] = ratings[:10]\n",
    "ambtionbox"
   ]
  },
  {
   "cell_type": "code",
   "execution_count": null,
   "id": "d1a52358",
   "metadata": {},
   "outputs": [],
   "source": []
  },
  {
   "cell_type": "markdown",
   "id": "7d8a56a2",
   "metadata": {},
   "source": [
    "# Q10: Write a python program to scrape the salary data for Data Scientist designation."
   ]
  },
  {
   "cell_type": "code",
   "execution_count": 229,
   "id": "0a94a876",
   "metadata": {},
   "outputs": [],
   "source": [
    "driver = webdriver.Chrome('chromedriver.exe')\n",
    "driver.get('https://www.ambitionbox.com/')"
   ]
  },
  {
   "cell_type": "code",
   "execution_count": 230,
   "id": "09ddadf0",
   "metadata": {},
   "outputs": [],
   "source": [
    "salaries = driver.find_element_by_xpath(\"//a[@class='link salaries']\")\n",
    "salaries.click()"
   ]
  },
  {
   "cell_type": "code",
   "execution_count": 237,
   "id": "0d47cd4d",
   "metadata": {},
   "outputs": [],
   "source": [
    "designation = driver.find_element_by_xpath(\"/html/body/div/div/div/main/section[1]/div[2]/div[1]/span/input\")\n",
    "designation.send_keys(\"Data Scientist\")"
   ]
  },
  {
   "cell_type": "code",
   "execution_count": null,
   "id": "6e5a6947",
   "metadata": {},
   "outputs": [],
   "source": [
    "data_scientist = driver.find_element_by_xpath(\"/html/body/div/div/div/div[2]/div/div/div/div[1]/span/div/div[2]/div[2]/div[2]/div/p\")\n",
    "data_scientist.click()"
   ]
  },
  {
   "cell_type": "code",
   "execution_count": 240,
   "id": "97512321",
   "metadata": {},
   "outputs": [],
   "source": [
    "search_button = driver.find_element_by_xpath(\"/html/body/div/div/div/main/section[1]/div[2]/div[1]/i[1]\")\n",
    "search_button.click()"
   ]
  },
  {
   "cell_type": "code",
   "execution_count": 241,
   "id": "183ef31f",
   "metadata": {},
   "outputs": [],
   "source": [
    "result = driver.find_elements_by_xpath(\"//div[@class='result-row']\")\n",
    "results = []\n",
    "for i in result:\n",
    "    results.append(i.text.split('\\n'))"
   ]
  },
  {
   "cell_type": "code",
   "execution_count": 242,
   "id": "6d865270",
   "metadata": {},
   "outputs": [],
   "source": [
    "company_name = [i[0] for i in results]\n"
   ]
  },
  {
   "cell_type": "code",
   "execution_count": 243,
   "id": "4d572aa9",
   "metadata": {},
   "outputs": [],
   "source": [
    "salary_record = [i[1] for i in results]\n"
   ]
  },
  {
   "cell_type": "code",
   "execution_count": 244,
   "id": "8d560142",
   "metadata": {},
   "outputs": [],
   "source": [
    "average_salary = [i[4] for i in results]\n"
   ]
  },
  {
   "cell_type": "code",
   "execution_count": 245,
   "id": "dc8e25bd",
   "metadata": {},
   "outputs": [],
   "source": [
    "min_salary = [i[5] for i in results]\n"
   ]
  },
  {
   "cell_type": "code",
   "execution_count": 246,
   "id": "9eadc51a",
   "metadata": {},
   "outputs": [],
   "source": [
    "max_salary = [i[6] for i in results]\n"
   ]
  },
  {
   "cell_type": "code",
   "execution_count": 247,
   "id": "4a56343d",
   "metadata": {},
   "outputs": [],
   "source": [
    "exp_reqd = [i[3] for i in results]\n"
   ]
  },
  {
   "cell_type": "code",
   "execution_count": 248,
   "id": "d5c3b8e5",
   "metadata": {},
   "outputs": [
    {
     "data": {
      "text/html": [
       "<div>\n",
       "<style scoped>\n",
       "    .dataframe tbody tr th:only-of-type {\n",
       "        vertical-align: middle;\n",
       "    }\n",
       "\n",
       "    .dataframe tbody tr th {\n",
       "        vertical-align: top;\n",
       "    }\n",
       "\n",
       "    .dataframe thead th {\n",
       "        text-align: right;\n",
       "    }\n",
       "</style>\n",
       "<table border=\"1\" class=\"dataframe\">\n",
       "  <thead>\n",
       "    <tr style=\"text-align: right;\">\n",
       "      <th></th>\n",
       "      <th>Company Name</th>\n",
       "      <th>Total Salary Record</th>\n",
       "      <th>Average Salary</th>\n",
       "      <th>Minimum Salary</th>\n",
       "      <th>Maximum Salary</th>\n",
       "      <th>Experience Required</th>\n",
       "    </tr>\n",
       "  </thead>\n",
       "  <tbody>\n",
       "    <tr>\n",
       "      <th>0</th>\n",
       "      <td>Walmart</td>\n",
       "      <td>based on 12 salaries</td>\n",
       "      <td>3 yrs exp</td>\n",
       "      <td>₹ 30.2L</td>\n",
       "      <td>₹ 25.0L</td>\n",
       "      <td>.</td>\n",
       "    </tr>\n",
       "    <tr>\n",
       "      <th>1</th>\n",
       "      <td>Ab Inbev</td>\n",
       "      <td>based on 33 salaries</td>\n",
       "      <td>3-4 yrs exp</td>\n",
       "      <td>₹ 20.6L</td>\n",
       "      <td>₹ 15.0L</td>\n",
       "      <td>.</td>\n",
       "    </tr>\n",
       "    <tr>\n",
       "      <th>2</th>\n",
       "      <td>American Express</td>\n",
       "      <td>based on 10 salaries</td>\n",
       "      <td>4 yrs exp</td>\n",
       "      <td>₹ 19.9L</td>\n",
       "      <td>₹ 14.1L</td>\n",
       "      <td>.</td>\n",
       "    </tr>\n",
       "    <tr>\n",
       "      <th>3</th>\n",
       "      <td>ZS</td>\n",
       "      <td>based on 15 salaries</td>\n",
       "      <td>2 yrs exp</td>\n",
       "      <td>₹ 16.7L</td>\n",
       "      <td>₹ 11.0L</td>\n",
       "      <td>.</td>\n",
       "    </tr>\n",
       "    <tr>\n",
       "      <th>4</th>\n",
       "      <td>Optum</td>\n",
       "      <td>based on 33 salaries</td>\n",
       "      <td>3-4 yrs exp</td>\n",
       "      <td>₹ 16.1L</td>\n",
       "      <td>₹ 11.0L</td>\n",
       "      <td>.</td>\n",
       "    </tr>\n",
       "    <tr>\n",
       "      <th>5</th>\n",
       "      <td>Reliance Jio</td>\n",
       "      <td>based on 21 salaries</td>\n",
       "      <td>3-4 yrs exp</td>\n",
       "      <td>₹ 15.7L</td>\n",
       "      <td>₹ 5.6L</td>\n",
       "      <td>.</td>\n",
       "    </tr>\n",
       "    <tr>\n",
       "      <th>6</th>\n",
       "      <td>Fractal Analytics</td>\n",
       "      <td>based on 83 salaries</td>\n",
       "      <td>2-4 yrs exp</td>\n",
       "      <td>₹ 15.4L</td>\n",
       "      <td>₹ 10.0L</td>\n",
       "      <td>.</td>\n",
       "    </tr>\n",
       "    <tr>\n",
       "      <th>7</th>\n",
       "      <td>Tiger Analytics</td>\n",
       "      <td>based on 50 salaries</td>\n",
       "      <td>2-4 yrs exp</td>\n",
       "      <td>₹ 14.8L</td>\n",
       "      <td>₹ 9.0L</td>\n",
       "      <td>.</td>\n",
       "    </tr>\n",
       "    <tr>\n",
       "      <th>8</th>\n",
       "      <td>UnitedHealth</td>\n",
       "      <td>based on 57 salaries</td>\n",
       "      <td>2-4 yrs exp</td>\n",
       "      <td>₹ 14.0L</td>\n",
       "      <td>₹ 8.3L</td>\n",
       "      <td>.</td>\n",
       "    </tr>\n",
       "    <tr>\n",
       "      <th>9</th>\n",
       "      <td>EXL Service</td>\n",
       "      <td>based on 10 salaries</td>\n",
       "      <td>4 yrs exp</td>\n",
       "      <td>₹ 13.3L</td>\n",
       "      <td>₹ 8.9L</td>\n",
       "      <td>.</td>\n",
       "    </tr>\n",
       "  </tbody>\n",
       "</table>\n",
       "</div>"
      ],
      "text/plain": [
       "        Company Name   Total Salary Record Average Salary Minimum Salary  \\\n",
       "0            Walmart  based on 12 salaries      3 yrs exp        ₹ 30.2L   \n",
       "1           Ab Inbev  based on 33 salaries    3-4 yrs exp        ₹ 20.6L   \n",
       "2   American Express  based on 10 salaries      4 yrs exp        ₹ 19.9L   \n",
       "3                 ZS  based on 15 salaries      2 yrs exp        ₹ 16.7L   \n",
       "4              Optum  based on 33 salaries    3-4 yrs exp        ₹ 16.1L   \n",
       "5       Reliance Jio  based on 21 salaries    3-4 yrs exp        ₹ 15.7L   \n",
       "6  Fractal Analytics  based on 83 salaries    2-4 yrs exp        ₹ 15.4L   \n",
       "7    Tiger Analytics  based on 50 salaries    2-4 yrs exp        ₹ 14.8L   \n",
       "8       UnitedHealth  based on 57 salaries    2-4 yrs exp        ₹ 14.0L   \n",
       "9        EXL Service  based on 10 salaries      4 yrs exp        ₹ 13.3L   \n",
       "\n",
       "  Maximum Salary Experience Required  \n",
       "0        ₹ 25.0L                  .   \n",
       "1        ₹ 15.0L                  .   \n",
       "2        ₹ 14.1L                  .   \n",
       "3        ₹ 11.0L                  .   \n",
       "4        ₹ 11.0L                  .   \n",
       "5         ₹ 5.6L                  .   \n",
       "6        ₹ 10.0L                  .   \n",
       "7         ₹ 9.0L                  .   \n",
       "8         ₹ 8.3L                  .   \n",
       "9         ₹ 8.9L                  .   "
      ]
     },
     "execution_count": 248,
     "metadata": {},
     "output_type": "execute_result"
    }
   ],
   "source": [
    "Ambition_Box = pd.DataFrame()\n",
    "Ambition_Box['Company Name'] = company_name\n",
    "Ambition_Box['Total Salary Record'] = salary_record\n",
    "Ambition_Box['Average Salary'] = average_salary\n",
    "Ambition_Box['Minimum Salary'] = min_salary\n",
    "Ambition_Box['Maximum Salary'] = max_salary\n",
    "Ambition_Box['Experience Required'] = exp_reqd\n",
    "Ambition_Box"
   ]
  },
  {
   "cell_type": "code",
   "execution_count": null,
   "id": "97c08882",
   "metadata": {},
   "outputs": [],
   "source": []
  }
 ],
 "metadata": {
  "kernelspec": {
   "display_name": "Python 3",
   "language": "python",
   "name": "python3"
  },
  "language_info": {
   "codemirror_mode": {
    "name": "ipython",
    "version": 3
   },
   "file_extension": ".py",
   "mimetype": "text/x-python",
   "name": "python",
   "nbconvert_exporter": "python",
   "pygments_lexer": "ipython3",
   "version": "3.8.8"
  }
 },
 "nbformat": 4,
 "nbformat_minor": 5
}
